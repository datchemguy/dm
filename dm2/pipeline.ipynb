{
 "cells": [
  {
   "cell_type": "markdown",
   "metadata": {},
   "source": [
    "# Data Mining Lab 3 Pipeline Assignment\n",
    "\n",
    "**Medium articles** are used to disseminate knowledge and are written on a wide range of technical and non-technical topics. Users subscribe to different reading lists where reading lists represent either domains or certain topics. This naturally gives rise to a network structure where articles may belong to the same reading lists and hence are related to each other. Each article belongs to a certain topic. Automatically assigning articles to topics is very valuable for search applications. **The goal of this task is to classify articles by predicting their topics.**\n",
    "\n",
    "A dataset of medium articles along with subscription lists and topic tags is provided. The task is to classify articles into tags (i.e., topics), leveraging the network structure arising from relations using the subscription lists. Specifically, two nodes are connected if they share at least one list.\n",
    "\n",
    "**For this task you may only use the following libraries**: `numpy`, `pandas`, `matplotlib`, `networkx`, `gensim`.\n"
   ]
  },
  {
   "cell_type": "code",
   "metadata": {
    "ExecuteTime": {
     "end_time": "2024-12-14T10:47:23.064986Z",
     "start_time": "2024-12-14T10:47:20.748741Z"
    }
   },
   "source": [
    "from collections import defaultdict\n",
    "from itertools import combinations\n",
    "from pathlib import Path\n",
    "\n",
    "import gensim.models\n",
    "import networkx as nx\n",
    "import pandas as pd\n",
    "import numpy as np\n",
    "from matplotlib import pyplot as plt\n",
    "from gensim.models import Word2Vec"
   ],
   "outputs": [],
   "execution_count": 1
  },
  {
   "cell_type": "markdown",
   "metadata": {},
   "source": [
    "## Data loading\n",
    "\n",
    "The data is provided in three files which can be found in the `data` directory:\n",
    "\n",
    "- `articles.csv`: Contains the articles along with the subscription lists and some metadata.\n",
    "- `test_data.csv`: Contains a subset of nodes (articles) along with their labels (topics) used for testing.\n",
    "- `train_data.csv`: Contains the remaining nodes (articles) along with their labels (topics).\n",
    "\n",
    "**Important**: There is no specific training data requried for this assignment, since the node embeddings (task 3) are trained on the entire graph. The nodes in `train_data.csv` must be used for the kNN classifier, i.e., the computed nearest neighbors for a test node may only be nodes from this file.\n",
    "\n",
    "Let's use `pandas` to read these files:\n"
   ]
  },
  {
   "cell_type": "code",
   "metadata": {
    "ExecuteTime": {
     "end_time": "2024-12-14T10:47:24.000745Z",
     "start_time": "2024-12-14T10:47:23.075010Z"
    }
   },
   "source": [
    "articles = pd.read_csv(Path(\"data\") / \"articles.csv\")\n",
    "articles[\"node_id\"] = articles.index\n",
    "articles[\"lists\"] = articles[\"lists\"].str.split(\"; \")\n",
    "test_data = pd.read_csv(Path(\"data\") / \"test_data.csv\")\n",
    "train_data = pd.read_csv(Path(\"data\") / \"train_data.csv\")"
   ],
   "outputs": [],
   "execution_count": 2
  },
  {
   "cell_type": "markdown",
   "metadata": {},
   "source": [
    "Note that we have assigned node IDs based on where each article is located in the file.\n",
    "\n",
    "We can now inspect the individual data frames:\n"
   ]
  },
  {
   "cell_type": "code",
   "metadata": {
    "ExecuteTime": {
     "end_time": "2024-12-14T10:47:24.310628Z",
     "start_time": "2024-12-14T10:47:24.300045Z"
    }
   },
   "source": [
    "articles.head(2)"
   ],
   "outputs": [
    {
     "data": {
      "text/plain": [
       "                                             article  \\\n",
       "0  https://medium.com/@maniakacademy/code-demo-sh...   \n",
       "1  https://medium.com/towards-artificial-intellig...   \n",
       "\n",
       "                                               title  \\\n",
       "0  Code/Demo Share: Palo Alto Firewall Network In...   \n",
       "1              Clustering using Social Graph Network   \n",
       "\n",
       "                                            subtitle                 author  \\\n",
       "0  IP is broken as a unit of Control! IDENTITY as...       Sebastian Maniak   \n",
       "1  A Social Graph Network can be formed when ther...  Naveed Ahmed Janvekar   \n",
       "\n",
       "         date                                              lists  node_id  \n",
       "0  2022-08-17  [https://medium.com/@zemmali1990/list/aws-49f6...        0  \n",
       "1  2022-01-29  [https://medium.com/@TomaszCieplak/list/graph-...        1  "
      ],
      "text/html": [
       "<div>\n",
       "<style scoped>\n",
       "    .dataframe tbody tr th:only-of-type {\n",
       "        vertical-align: middle;\n",
       "    }\n",
       "\n",
       "    .dataframe tbody tr th {\n",
       "        vertical-align: top;\n",
       "    }\n",
       "\n",
       "    .dataframe thead th {\n",
       "        text-align: right;\n",
       "    }\n",
       "</style>\n",
       "<table border=\"1\" class=\"dataframe\">\n",
       "  <thead>\n",
       "    <tr style=\"text-align: right;\">\n",
       "      <th></th>\n",
       "      <th>article</th>\n",
       "      <th>title</th>\n",
       "      <th>subtitle</th>\n",
       "      <th>author</th>\n",
       "      <th>date</th>\n",
       "      <th>lists</th>\n",
       "      <th>node_id</th>\n",
       "    </tr>\n",
       "  </thead>\n",
       "  <tbody>\n",
       "    <tr>\n",
       "      <th>0</th>\n",
       "      <td>https://medium.com/@maniakacademy/code-demo-sh...</td>\n",
       "      <td>Code/Demo Share: Palo Alto Firewall Network In...</td>\n",
       "      <td>IP is broken as a unit of Control! IDENTITY as...</td>\n",
       "      <td>Sebastian Maniak</td>\n",
       "      <td>2022-08-17</td>\n",
       "      <td>[https://medium.com/@zemmali1990/list/aws-49f6...</td>\n",
       "      <td>0</td>\n",
       "    </tr>\n",
       "    <tr>\n",
       "      <th>1</th>\n",
       "      <td>https://medium.com/towards-artificial-intellig...</td>\n",
       "      <td>Clustering using Social Graph Network</td>\n",
       "      <td>A Social Graph Network can be formed when ther...</td>\n",
       "      <td>Naveed Ahmed Janvekar</td>\n",
       "      <td>2022-01-29</td>\n",
       "      <td>[https://medium.com/@TomaszCieplak/list/graph-...</td>\n",
       "      <td>1</td>\n",
       "    </tr>\n",
       "  </tbody>\n",
       "</table>\n",
       "</div>"
      ]
     },
     "execution_count": 3,
     "metadata": {},
     "output_type": "execute_result"
    }
   ],
   "execution_count": 3
  },
  {
   "cell_type": "code",
   "metadata": {
    "ExecuteTime": {
     "end_time": "2024-12-14T10:47:24.345696Z",
     "start_time": "2024-12-14T10:47:24.338757Z"
    }
   },
   "source": [
    "test_data.head(2)"
   ],
   "outputs": [
    {
     "data": {
      "text/plain": [
       "   node_id                    label\n",
       "0     2291  artificial-intelligence\n",
       "1     7292  artificial-intelligence"
      ],
      "text/html": [
       "<div>\n",
       "<style scoped>\n",
       "    .dataframe tbody tr th:only-of-type {\n",
       "        vertical-align: middle;\n",
       "    }\n",
       "\n",
       "    .dataframe tbody tr th {\n",
       "        vertical-align: top;\n",
       "    }\n",
       "\n",
       "    .dataframe thead th {\n",
       "        text-align: right;\n",
       "    }\n",
       "</style>\n",
       "<table border=\"1\" class=\"dataframe\">\n",
       "  <thead>\n",
       "    <tr style=\"text-align: right;\">\n",
       "      <th></th>\n",
       "      <th>node_id</th>\n",
       "      <th>label</th>\n",
       "    </tr>\n",
       "  </thead>\n",
       "  <tbody>\n",
       "    <tr>\n",
       "      <th>0</th>\n",
       "      <td>2291</td>\n",
       "      <td>artificial-intelligence</td>\n",
       "    </tr>\n",
       "    <tr>\n",
       "      <th>1</th>\n",
       "      <td>7292</td>\n",
       "      <td>artificial-intelligence</td>\n",
       "    </tr>\n",
       "  </tbody>\n",
       "</table>\n",
       "</div>"
      ]
     },
     "execution_count": 4,
     "metadata": {},
     "output_type": "execute_result"
    }
   ],
   "execution_count": 4
  },
  {
   "cell_type": "markdown",
   "metadata": {},
   "source": [
    "Next, let's create our graph. We'll create one node for each article and insert an edge between two articles if they share at least one subscription list:\n"
   ]
  },
  {
   "cell_type": "code",
   "metadata": {
    "ExecuteTime": {
     "end_time": "2024-12-14T10:47:26.626747Z",
     "start_time": "2024-12-14T10:47:24.461953Z"
    }
   },
   "source": [
    "medium_graph = nx.Graph()\n",
    "medium_graph.add_nodes_from(articles[\"node_id\"].to_list())\n",
    "\n",
    "list_to_nodes = defaultdict(set)\n",
    "for _, row in articles[[\"node_id\", \"lists\"]].iterrows():\n",
    "    for l in row[\"lists\"]:\n",
    "        list_to_nodes[l].add(row[\"node_id\"])\n",
    "\n",
    "for node_ids in list_to_nodes.values():\n",
    "    medium_graph.add_edges_from(combinations(node_ids, 2))"
   ],
   "outputs": [],
   "execution_count": 5
  },
  {
   "cell_type": "markdown",
   "metadata": {},
   "source": [
    "## Tasks\n",
    "\n",
    "1. Familiarization: Analyze the graph. Compute and plot statistics such as the number of nodes, number of edges, number of neighbors of each node, and so on. Are there any isolated nodes (i.e., nodes that do not have a single neighbor)?\n",
    "2. Compute spectral node embeddings.\n",
    "3. Perform random walks on the graph to obtain a set of sequences of nodes. Use those sequences to compute node embeddings. Hint: You may use the Word2vec implementation of the gensim library for this task. By treating each node as a word, this method will give you node embeddings.\n",
    "4. Implement a simple k-nearest neighbor classifier: For each node (medium article) in the test set, compute its nearest neighbors (based on the similarity of node embeddings). The classifier assigns a label (i.e., a topic) based on the topics of the nearest neighbors. Specifically, the predicted topic is simply the most common topic among the nearest neighbors. Compare both sets of node embeddings in terms of performance. Which one works better?\n"
   ]
  },
  {
   "metadata": {},
   "cell_type": "markdown",
   "source": "### Q1"
  },
  {
   "metadata": {
    "ExecuteTime": {
     "end_time": "2024-12-14T10:47:26.787726Z",
     "start_time": "2024-12-14T10:47:26.655245Z"
    }
   },
   "cell_type": "code",
   "source": [
    "num_nodes = medium_graph.number_of_nodes()\n",
    "print(\"Number of nodes:\", num_nodes)\n",
    "num_edges = medium_graph.number_of_edges()\n",
    "print(\"Number of edges:\", num_edges)\n",
    "\n",
    "# Then we also print the degrees of several nodes\n",
    "print_lim = 5\n",
    "isolated = 0\n",
    "for n in medium_graph.nodes:\n",
    "    deg = medium_graph.degree(n)\n",
    "    if print_lim > 0:\n",
    "        print(f\"Node {n} has {deg} neighbors\")\n",
    "        print_lim -= 1\n",
    "    if deg == 0:\n",
    "        isolated += 1\n",
    "print(f\"There are {isolated} isolated nodes\")\n",
    "some_nodes = list(medium_graph.nodes)[:1000]\n",
    "plt.plot(some_nodes, [medium_graph.degree[i] for i in some_nodes])\n",
    "plt.show()"
   ],
   "outputs": [
    {
     "name": "stdout",
     "output_type": "stream",
     "text": [
      "Number of nodes: 27718\n",
      "Number of edges: 2014162\n",
      "Node 0 has 144 neighbors\n",
      "Node 1 has 102 neighbors\n",
      "Node 2 has 18 neighbors\n",
      "Node 3 has 34 neighbors\n",
      "Node 4 has 15 neighbors\n",
      "There are 347 isolated nodes\n"
     ]
    },
    {
     "data": {
      "text/plain": [
       "<Figure size 640x480 with 1 Axes>"
      ],
      "image/png": "[encoded data removed]"
     },
     "metadata": {},
     "output_type": "display_data"
    }
   ],
   "execution_count": 6
  },
  {
   "metadata": {},
   "cell_type": "markdown",
   "source": "We can see that the nodes have neighbors within the tens and sometimes hundreds, up to over 1000."
  },
  {
   "metadata": {},
   "cell_type": "markdown",
   "source": "### Q2"
  },
  {
   "metadata": {
    "ExecuteTime": {
     "end_time": "2024-12-14T10:47:26.823392Z",
     "start_time": "2024-12-14T10:47:26.819022Z"
    }
   },
   "cell_type": "code",
   "source": [
    "def compute_spectral_embeddings(graph: nx.Graph, dim: int) -> np.ndarray:\n",
    "    \"\"\"Perform spectral clustering on the graph and compute low-dimensional node representations.\n",
    "    Does not normalize the Laplacian.\n",
    "\n",
    "    Args:\n",
    "        graph (nx.Graph): The graph.\n",
    "        dim (int): The dimension of representations. This corresponds to the number of eigenvectors used.\n",
    "\n",
    "    Returns:\n",
    "        np.ndarray: Node representations (sorted by node ID, ascending), shape (num_nodes, dim).\n",
    "    \"\"\"\n",
    "    adjacency_matrix = nx.to_numpy_array(graph, nodelist=sorted(graph.nodes))\n",
    "\n",
    "    # make sure the matrix is symmetric\n",
    "    assert (adjacency_matrix == adjacency_matrix.T).all()\n",
    "\n",
    "    L = np.zeros(adjacency_matrix.shape)\n",
    "    for i in range(adjacency_matrix.shape[0]):\n",
    "        L[i][i] = graph.degree(i)\n",
    "    L -= adjacency_matrix\n",
    "    _, evecs = np.linalg.eigh(L)\n",
    "    np.save('spectral.npy', evecs)\n",
    "    return evecs[:, :dim]"
   ],
   "outputs": [],
   "execution_count": 7
  },
  {
   "metadata": {},
   "cell_type": "markdown",
   "source": [
    "## WARNING\n",
    "The spectral embedding function takes 30 minutes to run on the medium graph, so we recommend that you get the result from the file _spectral.npy_"
   ]
  },
  {
   "metadata": {
    "ExecuteTime": {
     "end_time": "2024-12-14T10:47:32.808468Z",
     "start_time": "2024-12-14T10:47:26.872185Z"
    }
   },
   "cell_type": "code",
   "source": [
    "dim = 128\n",
    "if Path('spectral.npy').exists():\n",
    "    spectral_embed = np.load('spectral.npy')[:, :dim]\n",
    "else:\n",
    "    spectral_embed = compute_spectral_embeddings(medium_graph, dim)\n",
    "spectral_embed"
   ],
   "outputs": [
    {
     "data": {
      "text/plain": [
       "array([[ 0.00000000e+00,  0.00000000e+00, -6.40289374e-03, ...,\n",
       "         0.00000000e+00,  0.00000000e+00,  0.00000000e+00],\n",
       "       [-1.30312626e-16,  3.63482680e-17, -6.40289374e-03, ...,\n",
       "        -1.12225863e-17, -1.64733507e-18, -1.05658640e-17],\n",
       "       [-2.23113813e-16,  1.22238079e-16, -6.40289374e-03, ...,\n",
       "         2.66440083e-16, -2.65005699e-16, -8.94961911e-17],\n",
       "       ...,\n",
       "       [ 5.62964355e-16,  1.17451494e-16, -6.40289374e-03, ...,\n",
       "        -5.71111965e-18, -2.39789522e-16,  4.88220791e-17],\n",
       "       [ 8.68716991e-17,  6.68893448e-17, -6.40289374e-03, ...,\n",
       "         2.22092039e-17, -3.95496624e-17,  3.17535711e-17],\n",
       "       [ 3.29771837e-03, -2.86252918e-03,  0.00000000e+00, ...,\n",
       "         4.30483917e-03,  5.78241200e-03, -1.44986890e-02]])"
      ]
     },
     "execution_count": 8,
     "metadata": {},
     "output_type": "execute_result"
    }
   ],
   "execution_count": 8
  },
  {
   "metadata": {},
   "cell_type": "markdown",
   "source": "### Q3"
  },
  {
   "metadata": {
    "ExecuteTime": {
     "end_time": "2024-12-14T11:47:49.268161Z",
     "start_time": "2024-12-14T11:47:49.262126Z"
    }
   },
   "cell_type": "code",
   "source": [
    "def random_walks(graph: nx.Graph, num_walks: int, walk_length: int) -> np.ndarray:\n",
    "    \"\"\"Perform random walks on an unweighted graph.\n",
    "\n",
    "    Args:\n",
    "        graph (nx.Graph): The graph.\n",
    "        num_walks (int): The number of random walks for each node.\n",
    "        walk_length (int): The number of nodes in a random walk.\n",
    "\n",
    "    Returns:\n",
    "        np.ndarray: The random walks, shape (n_nodes * num_walks, walk_length)\n",
    "    \"\"\"\n",
    "    result = np.zeros((num_nodes * num_walks, walk_length), dtype=int)\n",
    "\n",
    "    i = 0\n",
    "    for idx, node in enumerate(graph.nodes):\n",
    "        for walk in range(num_walks):\n",
    "            here = node\n",
    "            for j in range(walk_length):\n",
    "                result[i, j] = here\n",
    "                if not nx.is_isolate(graph, here):\n",
    "                    here = np.random.choice(graph[here])\n",
    "            i+=1\n",
    "\n",
    "    return result"
   ],
   "outputs": [],
   "execution_count": 43
  },
  {
   "metadata": {},
   "cell_type": "markdown",
   "source": "We treat isolated nodes by making them walk back to themselves. This way, they are entirely similar to themselves, and others are not similar to them at all."
  },
  {
   "metadata": {
    "ExecuteTime": {
     "end_time": "2024-12-14T11:48:17.430553Z",
     "start_time": "2024-12-14T11:47:50.191983Z"
    }
   },
   "cell_type": "code",
   "source": [
    "num_walks = 5\n",
    "walk_length = 10\n",
    "random_walk_embed = random_walks(medium_graph, num_walks, walk_length)\n",
    "random_walk_embed"
   ],
   "outputs": [
    {
     "data": {
      "text/plain": [
       "array([[    0, 20935,  3968, ...,  5609, 26502, 11508],\n",
       "       [    0,  1373, 19259, ...,  3071, 10546,   453],\n",
       "       [    0, 19561, 24352, ..., 23378,  8643,  7301],\n",
       "       ...,\n",
       "       [27717, 21386,  8872, ..., 10861, 27717, 23780],\n",
       "       [27717, 23780,  9808, ..., 23780, 10861, 27717],\n",
       "       [27717, 24823,  8872, ..., 21386,  8872,  9808]])"
      ]
     },
     "execution_count": 44,
     "metadata": {},
     "output_type": "execute_result"
    }
   ],
   "execution_count": 44
  },
  {
   "metadata": {},
   "cell_type": "markdown",
   "source": "We create a Word2Vec model and we build its vocabulary using these random walks as sentences."
  },
  {
   "metadata": {
    "ExecuteTime": {
     "end_time": "2024-12-14T11:50:21.983586Z",
     "start_time": "2024-12-14T11:50:21.450262Z"
    }
   },
   "cell_type": "code",
   "source": [
    "model = Word2Vec()\n",
    "model.build_vocab(random_walk_embed)"
   ],
   "outputs": [],
   "execution_count": 46
  },
  {
   "metadata": {},
   "cell_type": "markdown",
   "source": "### Q4"
  },
  {
   "metadata": {
    "ExecuteTime": {
     "end_time": "2024-12-14T11:50:24.981685Z",
     "start_time": "2024-12-14T11:50:24.970354Z"
    }
   },
   "cell_type": "code",
   "source": "model.wv.most_similar(0)",
   "outputs": [
    {
     "data": {
      "text/plain": [
       "[(18604, 0.47034215927124023),\n",
       " (25692, 0.38881832361221313),\n",
       " (10795, 0.3829617202281952),\n",
       " (22284, 0.3622734844684601),\n",
       " (25098, 0.3521002233028412),\n",
       " (6432, 0.34193527698516846),\n",
       " (3887, 0.3394404649734497),\n",
       " (7193, 0.33486658334732056),\n",
       " (6526, 0.3326462209224701),\n",
       " (3500, 0.33070746064186096)]"
      ]
     },
     "execution_count": 47,
     "metadata": {},
     "output_type": "execute_result"
    }
   ],
   "execution_count": 47
  },
  {
   "metadata": {},
   "cell_type": "markdown",
   "source": "Below we implement a k-NN classifier for random walk embeddings. This function takes a node, a list of known train labels for nodes, a Word2Vec model with a given vocabulary, and a _k_ parameter. It returns the most common label among the given node's most similar _k_ nodes."
  },
  {
   "metadata": {
    "ExecuteTime": {
     "end_time": "2024-12-14T11:50:44.269098Z",
     "start_time": "2024-12-14T11:50:44.262895Z"
    }
   },
   "cell_type": "code",
   "source": [
    "def k_nearest_neighbors_random_walk(node_id: int, train_data: np.ndarray[str], model: Word2Vec, k: int) -> str:\n",
    "    counts = {}\n",
    "    for neighbor in model.wv.most_similar(node_id)[:k]:\n",
    "        label = train_data[neighbor[0]]\n",
    "        counts[label] = counts.get(label, 0) + 1\n",
    "    max_count = 0\n",
    "    label = None\n",
    "    for l in counts:\n",
    "        if counts[l] > max_count:\n",
    "            max_count = counts[l]\n",
    "            label = l\n",
    "    return label"
   ],
   "outputs": [],
   "execution_count": 48
  },
  {
   "metadata": {
    "ExecuteTime": {
     "end_time": "2024-12-14T11:50:46.434187Z",
     "start_time": "2024-12-14T11:50:46.308128Z"
    }
   },
   "cell_type": "code",
   "source": [
    "train_labels = np.empty(num_nodes, dtype=object)\n",
    "for i in range(train_data.shape[0]):\n",
    "    train_labels[train_data['node_id'][i]] = train_data['label'][i]\n",
    "print(train_labels)"
   ],
   "outputs": [
    {
     "name": "stdout",
     "output_type": "stream",
     "text": [
      "['software-development' 'artificial-intelligence'\n",
      " 'artificial-intelligence' ... 'artificial-intelligence' None None]\n"
     ]
    }
   ],
   "execution_count": 49
  },
  {
   "metadata": {
    "ExecuteTime": {
     "end_time": "2024-12-14T11:59:45.814024Z",
     "start_time": "2024-12-14T11:59:45.776892Z"
    }
   },
   "cell_type": "code",
   "source": [
    "test_labels = np.empty(num_nodes, dtype=object)\n",
    "for i in range(test_data.shape[0]):\n",
    "    test_labels[test_data['node_id'][i]] = test_data['label'][i]\n",
    "print(test_labels)"
   ],
   "outputs": [
    {
     "name": "stdout",
     "output_type": "stream",
     "text": [
      "[None None None ... None 'software-development' 'software-development']\n"
     ]
    }
   ],
   "execution_count": 55
  },
  {
   "metadata": {
    "ExecuteTime": {
     "end_time": "2024-12-14T11:51:20.362829Z",
     "start_time": "2024-12-14T11:51:20.356943Z"
    }
   },
   "cell_type": "code",
   "source": [
    "print(k_nearest_neighbors_random_walk(27444, train_labels, model, 7))\n",
    "print(train_labels[27444])"
   ],
   "outputs": [
    {
     "name": "stdout",
     "output_type": "stream",
     "text": [
      "software-development\n",
      "software-development\n"
     ]
    }
   ],
   "execution_count": 53
  },
  {
   "metadata": {
    "ExecuteTime": {
     "end_time": "2024-12-14T11:53:33.896600Z",
     "start_time": "2024-12-14T11:51:42.957527Z"
    }
   },
   "cell_type": "code",
   "source": [
    "k_list = list(range(1, 21))\n",
    "accuracies = []\n",
    "verification_size = int(0.4 * num_nodes)\n",
    "for k in k_list:\n",
    "    verification_nodes = np.random.choice(range(num_nodes), size=verification_size)\n",
    "    correct = 0\n",
    "    for node in verification_nodes:\n",
    "        guessed_label = k_nearest_neighbors_random_walk(node, train_labels, model, k)\n",
    "        if guessed_label == train_labels[node]:\n",
    "            correct += 1\n",
    "    accuracies.append(correct / verification_size)\n",
    "plt.plot(k_list, accuracies)\n",
    "plt.show()"
   ],
   "outputs": [
    {
     "data": {
      "text/plain": [
       "<Figure size 640x480 with 1 Axes>"
      ],
      "image/png": "[encoded data removed]"
     },
     "metadata": {},
     "output_type": "display_data"
    }
   ],
   "execution_count": 54
  },
  {
   "metadata": {
    "ExecuteTime": {
     "end_time": "2024-12-14T12:02:10.924179Z",
     "start_time": "2024-12-14T12:02:08.919262Z"
    }
   },
   "cell_type": "code",
   "source": [
    "k = 6\n",
    "correct = 0\n",
    "total = 0\n",
    "for i, label in enumerate(test_labels):\n",
    "    if label:\n",
    "        total += 1\n",
    "        guessed_label = k_nearest_neighbors_random_walk(i, train_labels, model, k)\n",
    "        if guessed_label == label:\n",
    "            correct += 1\n",
    "print(correct / total)"
   ],
   "outputs": [
    {
     "name": "stdout",
     "output_type": "stream",
     "text": [
      "0.44556962025316454\n"
     ]
    }
   ],
   "execution_count": 57
  },
  {
   "metadata": {},
   "cell_type": "code",
   "outputs": [],
   "execution_count": null,
   "source": ""
  }
 ],
 "metadata": {
  "kernelspec": {
   "display_name": "dmlab",
   "language": "python",
   "name": "python3"
  },
  "language_info": {
   "codemirror_mode": {
    "name": "ipython",
    "version": 3
   },
   "file_extension": ".py",
   "mimetype": "text/x-python",
   "name": "python",
   "nbconvert_exporter": "python",
   "pygments_lexer": "ipython3",
   "version": "3.11.0"
  }
 },
 "nbformat": 4,
 "nbformat_minor": 4
}

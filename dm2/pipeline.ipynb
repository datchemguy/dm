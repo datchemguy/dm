{
 "cells": [
  {
   "cell_type": "markdown",
   "metadata": {},
   "source": [
    "# Data Mining Lab 3 Pipeline Assignment\n",
    "\n",
    "**Medium articles** are used to disseminate knowledge and are written on a wide range of technical and non-technical topics. Users subscribe to different reading lists where reading lists represent either domains or certain topics. This naturally gives rise to a network structure where articles may belong to the same reading lists and hence are related to each other. Each article belongs to a certain topic. Automatically assigning articles to topics is very valuable for search applications. **The goal of this task is to classify articles by predicting their topics.**\n",
    "\n",
    "A dataset of medium articles along with subscription lists and topic tags is provided. The task is to classify articles into tags (i.e., topics), leveraging the network structure arising from relations using the subscription lists. Specifically, two nodes are connected if they share at least one list.\n",
    "\n",
    "**For this task you may only use the following libraries**: `numpy`, `pandas`, `matplotlib`, `networkx`, `gensim`.\n"
   ]
  },
  {
   "cell_type": "code",
   "metadata": {
    "ExecuteTime": {
     "end_time": "2024-12-14T12:18:30.796989Z",
     "start_time": "2024-12-14T12:18:30.792151Z"
    }
   },
   "source": [
    "from collections import defaultdict\n",
    "from itertools import combinations\n",
    "from pathlib import Path\n",
    "\n",
    "import gensim.models\n",
    "import networkx as nx\n",
    "import pandas as pd\n",
    "import numpy as np\n",
    "from matplotlib import pyplot as plt\n",
    "from gensim.models import Word2Vec"
   ],
   "outputs": [],
   "execution_count": 58
  },
  {
   "cell_type": "markdown",
   "metadata": {},
   "source": [
    "## Data loading\n",
    "\n",
    "The data is provided in three files which can be found in the `data` directory:\n",
    "\n",
    "- `articles.csv`: Contains the articles along with the subscription lists and some metadata.\n",
    "- `test_data.csv`: Contains a subset of nodes (articles) along with their labels (topics) used for testing.\n",
    "- `train_data.csv`: Contains the remaining nodes (articles) along with their labels (topics).\n",
    "\n",
    "**Important**: There is no specific training data requried for this assignment, since the node embeddings (task 3) are trained on the entire graph. The nodes in `train_data.csv` must be used for the kNN classifier, i.e., the computed nearest neighbors for a test node may only be nodes from this file.\n",
    "\n",
    "Let's use `pandas` to read these files:\n"
   ]
  },
  {
   "cell_type": "code",
   "metadata": {
    "ExecuteTime": {
     "end_time": "2024-12-14T12:18:31.112269Z",
     "start_time": "2024-12-14T12:18:30.853148Z"
    }
   },
   "source": [
    "articles = pd.read_csv(Path(\"data\") / \"articles.csv\")\n",
    "articles[\"node_id\"] = articles.index\n",
    "articles[\"lists\"] = articles[\"lists\"].str.split(\"; \")\n",
    "test_data = pd.read_csv(Path(\"data\") / \"test_data.csv\")\n",
    "train_data = pd.read_csv(Path(\"data\") / \"train_data.csv\")"
   ],
   "outputs": [],
   "execution_count": 59
  },
  {
   "cell_type": "markdown",
   "metadata": {},
   "source": [
    "Note that we have assigned node IDs based on where each article is located in the file.\n",
    "\n",
    "We can now inspect the individual data frames:\n"
   ]
  },
  {
   "cell_type": "code",
   "metadata": {
    "ExecuteTime": {
     "end_time": "2024-12-14T12:18:31.129004Z",
     "start_time": "2024-12-14T12:18:31.121183Z"
    }
   },
   "source": [
    "articles.head(2)"
   ],
   "outputs": [
    {
     "data": {
      "text/plain": [
       "                                                                                                                                          article  \\\n",
       "0  https://medium.com/@maniakacademy/code-demo-share-palo-alto-firewall-network-infrastructure-automation-with-consul-terraform-sync-ac1ae2c89c10   \n",
       "1                                https://medium.com/towards-artificial-intelligence/extracting-communities-from-social-graph-network-d9213ed9d25a   \n",
       "\n",
       "                                                                                              title  \\\n",
       "0  Code/Demo Share: Palo Alto Firewall Network Infrastructure Automation with Consul-Terraform-Sync   \n",
       "1                                                             Clustering using Social Graph Network   \n",
       "\n",
       "                                                                                                                                                                                                                                                                                                           subtitle  \\\n",
       "0         IP is broken as a unit of Control! IDENTITY as a unit of control is the key to succeed in discovering, securing and automating your current workflows across any runtime and cloud. Let’s discuss how we can automate Palo Alto Network firewall dynamic address groups using Consul with Terraform. The…   \n",
       "1  A Social Graph Network can be formed when there are a set of connections between entities (nodes — such as people or organizations) and interactions (edges — such as friendship, contracts) between them. In today’s world, there are many social networks that exist — a famous one being Facebook’s friend’s…   \n",
       "\n",
       "                  author        date  \\\n",
       "0       Sebastian Maniak  2022-08-17   \n",
       "1  Naveed Ahmed Janvekar  2022-01-29   \n",
       "\n",
       "                                                                                                                                  lists  \\\n",
       "0            [https://medium.com/@zemmali1990/list/aws-49f68219c452, https://medium.com/@zemmali1990/list/devops-engineer-599e83c94a49]   \n",
       "1  [https://medium.com/@TomaszCieplak/list/graph-ds-548839d6b0a2, https://medium.com/@Nikhilkohli1/list/fidelity-research-8640cb240093]   \n",
       "\n",
       "   node_id  \n",
       "0        0  \n",
       "1        1  "
      ],
      "text/html": [
       "<div>\n",
       "<style scoped>\n",
       "    .dataframe tbody tr th:only-of-type {\n",
       "        vertical-align: middle;\n",
       "    }\n",
       "\n",
       "    .dataframe tbody tr th {\n",
       "        vertical-align: top;\n",
       "    }\n",
       "\n",
       "    .dataframe thead th {\n",
       "        text-align: right;\n",
       "    }\n",
       "</style>\n",
       "<table border=\"1\" class=\"dataframe\">\n",
       "  <thead>\n",
       "    <tr style=\"text-align: right;\">\n",
       "      <th></th>\n",
       "      <th>article</th>\n",
       "      <th>title</th>\n",
       "      <th>subtitle</th>\n",
       "      <th>author</th>\n",
       "      <th>date</th>\n",
       "      <th>lists</th>\n",
       "      <th>node_id</th>\n",
       "    </tr>\n",
       "  </thead>\n",
       "  <tbody>\n",
       "    <tr>\n",
       "      <th>0</th>\n",
       "      <td>https://medium.com/@maniakacademy/code-demo-share-palo-alto-firewall-network-infrastructure-automation-with-consul-terraform-sync-ac1ae2c89c10</td>\n",
       "      <td>Code/Demo Share: Palo Alto Firewall Network Infrastructure Automation with Consul-Terraform-Sync</td>\n",
       "      <td>IP is broken as a unit of Control! IDENTITY as a unit of control is the key to succeed in discovering, securing and automating your current workflows across any runtime and cloud. Let’s discuss how we can automate Palo Alto Network firewall dynamic address groups using Consul with Terraform. The…</td>\n",
       "      <td>Sebastian Maniak</td>\n",
       "      <td>2022-08-17</td>\n",
       "      <td>[https://medium.com/@zemmali1990/list/aws-49f68219c452, https://medium.com/@zemmali1990/list/devops-engineer-599e83c94a49]</td>\n",
       "      <td>0</td>\n",
       "    </tr>\n",
       "    <tr>\n",
       "      <th>1</th>\n",
       "      <td>https://medium.com/towards-artificial-intelligence/extracting-communities-from-social-graph-network-d9213ed9d25a</td>\n",
       "      <td>Clustering using Social Graph Network</td>\n",
       "      <td>A Social Graph Network can be formed when there are a set of connections between entities (nodes — such as people or organizations) and interactions (edges — such as friendship, contracts) between them. In today’s world, there are many social networks that exist — a famous one being Facebook’s friend’s…</td>\n",
       "      <td>Naveed Ahmed Janvekar</td>\n",
       "      <td>2022-01-29</td>\n",
       "      <td>[https://medium.com/@TomaszCieplak/list/graph-ds-548839d6b0a2, https://medium.com/@Nikhilkohli1/list/fidelity-research-8640cb240093]</td>\n",
       "      <td>1</td>\n",
       "    </tr>\n",
       "  </tbody>\n",
       "</table>\n",
       "</div>"
      ]
     },
     "execution_count": 60,
     "metadata": {},
     "output_type": "execute_result"
    }
   ],
   "execution_count": 60
  },
  {
   "cell_type": "code",
   "metadata": {
    "ExecuteTime": {
     "end_time": "2024-12-14T12:18:31.195917Z",
     "start_time": "2024-12-14T12:18:31.189794Z"
    }
   },
   "source": [
    "test_data.head(2)"
   ],
   "outputs": [
    {
     "data": {
      "text/plain": [
       "   node_id                    label\n",
       "0     2291  artificial-intelligence\n",
       "1     7292  artificial-intelligence"
      ],
      "text/html": [
       "<div>\n",
       "<style scoped>\n",
       "    .dataframe tbody tr th:only-of-type {\n",
       "        vertical-align: middle;\n",
       "    }\n",
       "\n",
       "    .dataframe tbody tr th {\n",
       "        vertical-align: top;\n",
       "    }\n",
       "\n",
       "    .dataframe thead th {\n",
       "        text-align: right;\n",
       "    }\n",
       "</style>\n",
       "<table border=\"1\" class=\"dataframe\">\n",
       "  <thead>\n",
       "    <tr style=\"text-align: right;\">\n",
       "      <th></th>\n",
       "      <th>node_id</th>\n",
       "      <th>label</th>\n",
       "    </tr>\n",
       "  </thead>\n",
       "  <tbody>\n",
       "    <tr>\n",
       "      <th>0</th>\n",
       "      <td>2291</td>\n",
       "      <td>artificial-intelligence</td>\n",
       "    </tr>\n",
       "    <tr>\n",
       "      <th>1</th>\n",
       "      <td>7292</td>\n",
       "      <td>artificial-intelligence</td>\n",
       "    </tr>\n",
       "  </tbody>\n",
       "</table>\n",
       "</div>"
      ]
     },
     "execution_count": 61,
     "metadata": {},
     "output_type": "execute_result"
    }
   ],
   "execution_count": 61
  },
  {
   "cell_type": "markdown",
   "metadata": {},
   "source": [
    "Next, let's create our graph. We'll create one node for each article and insert an edge between two articles if they share at least one subscription list:\n"
   ]
  },
  {
   "cell_type": "code",
   "metadata": {
    "ExecuteTime": {
     "end_time": "2024-12-14T12:18:33.346263Z",
     "start_time": "2024-12-14T12:18:31.272824Z"
    }
   },
   "source": [
    "medium_graph = nx.Graph()\n",
    "medium_graph.add_nodes_from(articles[\"node_id\"].to_list())\n",
    "\n",
    "list_to_nodes = defaultdict(set)\n",
    "for _, row in articles[[\"node_id\", \"lists\"]].iterrows():\n",
    "    for l in row[\"lists\"]:\n",
    "        list_to_nodes[l].add(row[\"node_id\"])\n",
    "\n",
    "for node_ids in list_to_nodes.values():\n",
    "    medium_graph.add_edges_from(combinations(node_ids, 2))"
   ],
   "outputs": [],
   "execution_count": 62
  },
  {
   "cell_type": "markdown",
   "metadata": {},
   "source": [
    "## Tasks\n",
    "\n",
    "1. Familiarization: Analyze the graph. Compute and plot statistics such as the number of nodes, number of edges, number of neighbors of each node, and so on. Are there any isolated nodes (i.e., nodes that do not have a single neighbor)?\n",
    "2. Compute spectral node embeddings.\n",
    "3. Perform random walks on the graph to obtain a set of sequences of nodes. Use those sequences to compute node embeddings. Hint: You may use the Word2vec implementation of the gensim library for this task. By treating each node as a word, this method will give you node embeddings.\n",
    "4. Implement a simple k-nearest neighbor classifier: For each node (medium article) in the test set, compute its nearest neighbors (based on the similarity of node embeddings). The classifier assigns a label (i.e., a topic) based on the topics of the nearest neighbors. Specifically, the predicted topic is simply the most common topic among the nearest neighbors. Compare both sets of node embeddings in terms of performance. Which one works better?\n"
   ]
  },
  {
   "metadata": {},
   "cell_type": "markdown",
   "source": "### Q1"
  },
  {
   "metadata": {
    "ExecuteTime": {
     "end_time": "2024-12-14T12:18:33.474211Z",
     "start_time": "2024-12-14T12:18:33.372030Z"
    }
   },
   "cell_type": "code",
   "source": [
    "num_nodes = medium_graph.number_of_nodes()\n",
    "print(\"Number of nodes:\", num_nodes)\n",
    "num_edges = medium_graph.number_of_edges()\n",
    "print(\"Number of edges:\", num_edges)\n",
    "\n",
    "# Then we also print the degrees of several nodes\n",
    "print_lim = 5\n",
    "isolated = 0\n",
    "for n in medium_graph.nodes:\n",
    "    deg = medium_graph.degree(n)\n",
    "    if print_lim > 0:\n",
    "        print(f\"Node {n} has {deg} neighbors\")\n",
    "        print_lim -= 1\n",
    "    if deg == 0:\n",
    "        isolated += 1\n",
    "print(f\"There are {isolated} isolated nodes\")\n",
    "some_nodes = list(medium_graph.nodes)[:1000]\n",
    "plt.plot(some_nodes, [medium_graph.degree[i] for i in some_nodes])\n",
    "plt.show()"
   ],
   "outputs": [
    {
     "name": "stdout",
     "output_type": "stream",
     "text": [
      "Number of nodes: 27718\n",
      "Number of edges: 2014162\n",
      "Node 0 has 144 neighbors\n",
      "Node 1 has 102 neighbors\n",
      "Node 2 has 18 neighbors\n",
      "Node 3 has 34 neighbors\n",
      "Node 4 has 15 neighbors\n",
      "There are 347 isolated nodes\n"
     ]
    },
    {
     "data": {
      "text/plain": [
       "<Figure size 640x480 with 1 Axes>"
      ],
      "image/png": "[encoded data removed]"
     },
     "metadata": {},
     "output_type": "display_data"
    }
   ],
   "execution_count": 63
  },
  {
   "metadata": {},
   "cell_type": "markdown",
   "source": "We can see that the nodes have neighbors within the tens and sometimes hundreds, up to over 1000."
  },
  {
   "metadata": {},
   "cell_type": "markdown",
   "source": "### Q2"
  },
  {
   "metadata": {
    "ExecuteTime": {
     "end_time": "2024-12-14T12:18:33.488977Z",
     "start_time": "2024-12-14T12:18:33.485216Z"
    }
   },
   "cell_type": "code",
   "source": [
    "def compute_spectral_embeddings(graph: nx.Graph, dim: int) -> np.ndarray:\n",
    "    \"\"\"Perform spectral clustering on the graph and compute low-dimensional node representations.\n",
    "    Does not normalize the Laplacian.\n",
    "\n",
    "    Args:\n",
    "        graph (nx.Graph): The graph.\n",
    "        dim (int): The dimension of representations. This corresponds to the number of eigenvectors used.\n",
    "\n",
    "    Returns:\n",
    "        np.ndarray: Node representations (sorted by node ID, ascending), shape (num_nodes, dim).\n",
    "    \"\"\"\n",
    "    adjacency_matrix = nx.to_numpy_array(graph, nodelist=sorted(graph.nodes))\n",
    "\n",
    "    # make sure the matrix is symmetric\n",
    "    assert (adjacency_matrix == adjacency_matrix.T).all()\n",
    "\n",
    "    L = np.zeros(adjacency_matrix.shape)\n",
    "    for i in range(adjacency_matrix.shape[0]):\n",
    "        L[i][i] = graph.degree(i)\n",
    "    L -= adjacency_matrix\n",
    "    _, evecs = np.linalg.eigh(L)\n",
    "    np.save('spectral.npy', evecs)\n",
    "    return evecs[:, :dim]"
   ],
   "outputs": [],
   "execution_count": 64
  },
  {
   "metadata": {},
   "cell_type": "markdown",
   "source": [
    "## WARNING\n",
    "The spectral embedding function takes 30 minutes to run on the medium graph, so we recommend that you get the result from the file _spectral.npy_"
   ]
  },
  {
   "metadata": {
    "ExecuteTime": {
     "end_time": "2024-12-14T12:18:40.586547Z",
     "start_time": "2024-12-14T12:18:33.518486Z"
    }
   },
   "cell_type": "code",
   "source": [
    "dim = 128\n",
    "if Path('spectral.npy').exists():\n",
    "    spectral_embed = np.load('spectral.npy')[:, :dim]\n",
    "else:\n",
    "    spectral_embed = compute_spectral_embeddings(medium_graph, dim)\n",
    "spectral_embed"
   ],
   "outputs": [
    {
     "data": {
      "text/plain": [
       "array([[ 0.00000000e+00,  0.00000000e+00, -6.40289374e-03, ...,\n",
       "         0.00000000e+00,  0.00000000e+00,  0.00000000e+00],\n",
       "       [-1.30312626e-16,  3.63482680e-17, -6.40289374e-03, ...,\n",
       "        -1.12225863e-17, -1.64733507e-18, -1.05658640e-17],\n",
       "       [-2.23113813e-16,  1.22238079e-16, -6.40289374e-03, ...,\n",
       "         2.66440083e-16, -2.65005699e-16, -8.94961911e-17],\n",
       "       ...,\n",
       "       [ 5.62964355e-16,  1.17451494e-16, -6.40289374e-03, ...,\n",
       "        -5.71111965e-18, -2.39789522e-16,  4.88220791e-17],\n",
       "       [ 8.68716991e-17,  6.68893448e-17, -6.40289374e-03, ...,\n",
       "         2.22092039e-17, -3.95496624e-17,  3.17535711e-17],\n",
       "       [ 3.29771837e-03, -2.86252918e-03,  0.00000000e+00, ...,\n",
       "         4.30483917e-03,  5.78241200e-03, -1.44986890e-02]])"
      ]
     },
     "execution_count": 65,
     "metadata": {},
     "output_type": "execute_result"
    }
   ],
   "execution_count": 65
  },
  {
   "metadata": {},
   "cell_type": "markdown",
   "source": "### Q3"
  },
  {
   "metadata": {
    "ExecuteTime": {
     "end_time": "2024-12-14T12:18:40.652582Z",
     "start_time": "2024-12-14T12:18:40.649061Z"
    }
   },
   "cell_type": "code",
   "source": [
    "def random_walks(graph: nx.Graph, num_walks: int, walk_length: int) -> np.ndarray:\n",
    "    \"\"\"Perform random walks on an unweighted graph.\n",
    "\n",
    "    Args:\n",
    "        graph (nx.Graph): The graph.\n",
    "        num_walks (int): The number of random walks for each node.\n",
    "        walk_length (int): The number of nodes in a random walk.\n",
    "\n",
    "    Returns:\n",
    "        np.ndarray: The random walks, shape (n_nodes * num_walks, walk_length)\n",
    "    \"\"\"\n",
    "    result = np.zeros((num_nodes * num_walks, walk_length), dtype=int)\n",
    "\n",
    "    i = 0\n",
    "    for idx, node in enumerate(graph.nodes):\n",
    "        for walk in range(num_walks):\n",
    "            here = node\n",
    "            for j in range(walk_length):\n",
    "                result[i, j] = here\n",
    "                if not nx.is_isolate(graph, here):\n",
    "                    here = np.random.choice(graph[here])\n",
    "            i+=1\n",
    "\n",
    "    return result"
   ],
   "outputs": [],
   "execution_count": 66
  },
  {
   "metadata": {},
   "cell_type": "markdown",
   "source": "We treat isolated nodes by making them walk back to themselves. This way, they are entirely similar to themselves, and others are not similar to them at all."
  },
  {
   "metadata": {
    "ExecuteTime": {
     "end_time": "2024-12-14T12:19:08.450065Z",
     "start_time": "2024-12-14T12:18:40.741195Z"
    }
   },
   "cell_type": "code",
   "source": [
    "num_walks = 5\n",
    "walk_length = 10\n",
    "random_walk_embed = random_walks(medium_graph, num_walks, walk_length)\n",
    "random_walk_embed"
   ],
   "outputs": [
    {
     "data": {
      "text/plain": [
       "array([[    0,  8905, 20019, ..., 13466,  8850,  7300],\n",
       "       [    0,  6052, 20711, ...,   938,  1996,  9952],\n",
       "       [    0, 22988, 15962, ..., 21646,  5862,  9249],\n",
       "       ...,\n",
       "       [27717, 23780, 21386, ..., 27717,  8872, 24823],\n",
       "       [27717,  8872, 23035, ..., 21386, 23780, 24823],\n",
       "       [27717, 21386, 10861, ...,  8872, 21386,  8872]])"
      ]
     },
     "execution_count": 67,
     "metadata": {},
     "output_type": "execute_result"
    }
   ],
   "execution_count": 67
  },
  {
   "metadata": {},
   "cell_type": "markdown",
   "source": "We create a Word2Vec model and we build its vocabulary using these random walks as sentences."
  },
  {
   "metadata": {
    "ExecuteTime": {
     "end_time": "2024-12-14T12:19:09.024289Z",
     "start_time": "2024-12-14T12:19:08.480583Z"
    }
   },
   "cell_type": "code",
   "source": [
    "model = Word2Vec()\n",
    "model.build_vocab(random_walk_embed)"
   ],
   "outputs": [],
   "execution_count": 68
  },
  {
   "metadata": {},
   "cell_type": "markdown",
   "source": "### Q4"
  },
  {
   "metadata": {},
   "cell_type": "markdown",
   "source": "First we convert the train and test sets into arrays that we can work with."
  },
  {
   "metadata": {
    "ExecuteTime": {
     "end_time": "2024-12-14T12:19:09.173740Z",
     "start_time": "2024-12-14T12:19:09.052700Z"
    }
   },
   "cell_type": "code",
   "source": [
    "train_labels = np.empty(num_nodes, dtype=object)\n",
    "for i in range(train_data.shape[0]):\n",
    "    train_labels[train_data['node_id'][i]] = train_data['label'][i]\n",
    "print(train_labels)"
   ],
   "outputs": [
    {
     "name": "stdout",
     "output_type": "stream",
     "text": [
      "['software-development' 'artificial-intelligence'\n",
      " 'artificial-intelligence' ... 'artificial-intelligence' None None]\n"
     ]
    }
   ],
   "execution_count": 69
  },
  {
   "metadata": {
    "ExecuteTime": {
     "end_time": "2024-12-14T12:19:09.202993Z",
     "start_time": "2024-12-14T12:19:09.178749Z"
    }
   },
   "cell_type": "code",
   "source": [
    "test_labels = np.empty(num_nodes, dtype=object)\n",
    "for i in range(test_data.shape[0]):\n",
    "    test_labels[test_data['node_id'][i]] = test_data['label'][i]\n",
    "print(test_labels)"
   ],
   "outputs": [
    {
     "name": "stdout",
     "output_type": "stream",
     "text": [
      "[None None None ... None 'software-development' 'software-development']\n"
     ]
    }
   ],
   "execution_count": 70
  },
  {
   "metadata": {},
   "cell_type": "markdown",
   "source": "Below we implement a k-NN classifier for random walk embeddings. This function takes a node, a list of known train labels for nodes, a Word2Vec model with a given vocabulary, and a _k_ parameter. It returns the most common label among the given node's most similar _k_ nodes."
  },
  {
   "metadata": {
    "ExecuteTime": {
     "end_time": "2024-12-14T12:19:09.236190Z",
     "start_time": "2024-12-14T12:19:09.231879Z"
    }
   },
   "cell_type": "code",
   "source": [
    "def k_nearest_neighbors_random_walk(node_id: int, train_data: np.ndarray[str], model: Word2Vec, k: int) -> str:\n",
    "    counts = {}\n",
    "    for neighbor in model.wv.most_similar(node_id)[:k]:\n",
    "        label = train_data[neighbor[0]]\n",
    "        counts[label] = counts.get(label, 0) + 1\n",
    "    max_count = 0\n",
    "    label = None\n",
    "    for l in counts:\n",
    "        if counts[l] > max_count:\n",
    "            max_count = counts[l]\n",
    "            label = l\n",
    "    return label"
   ],
   "outputs": [],
   "execution_count": 71
  },
  {
   "metadata": {},
   "cell_type": "markdown",
   "source": "We tune the _k_ parameter by taking several values and plotting the fraction of correct guesses for each."
  },
  {
   "metadata": {
    "ExecuteTime": {
     "end_time": "2024-12-14T12:21:00.297788Z",
     "start_time": "2024-12-14T12:19:09.264444Z"
    }
   },
   "cell_type": "code",
   "source": [
    "k_list = list(range(1, 21))\n",
    "accuracies = []\n",
    "validation_size = int(0.4 * num_nodes) # percentage of train set that we use as validation set\n",
    "for k in k_list:\n",
    "    validation_nodes = np.random.choice(range(num_nodes), size=validation_size)\n",
    "    correct = 0\n",
    "    for node in validation_nodes:\n",
    "        guessed_label = k_nearest_neighbors_random_walk(node, train_labels, model, k)\n",
    "        if guessed_label == train_labels[node]:\n",
    "            correct += 1\n",
    "    accuracies.append(correct / validation_size)\n",
    "plt.plot(k_list, accuracies)\n",
    "plt.show()"
   ],
   "outputs": [
    {
     "data": {
      "text/plain": [
       "<Figure size 640x480 with 1 Axes>"
      ],
      "image/png": "[encoded data removed]"
     },
     "metadata": {},
     "output_type": "display_data"
    }
   ],
   "execution_count": 72
  },
  {
   "metadata": {
    "ExecuteTime": {
     "end_time": "2024-12-14T12:21:10.910315Z",
     "start_time": "2024-12-14T12:21:08.763418Z"
    }
   },
   "cell_type": "code",
   "source": [
    "k = 6\n",
    "correct = 0\n",
    "total = 0\n",
    "for i, label in enumerate(test_labels):\n",
    "    if label:\n",
    "        total += 1\n",
    "        guessed_label = k_nearest_neighbors_random_walk(i, train_labels, model, k)\n",
    "        if guessed_label == label:\n",
    "            correct += 1\n",
    "print(correct / total)"
   ],
   "outputs": [
    {
     "name": "stdout",
     "output_type": "stream",
     "text": [
      "0.44531645569620254\n"
     ]
    }
   ],
   "execution_count": 74
  },
  {
   "metadata": {
    "ExecuteTime": {
     "end_time": "2024-12-14T12:21:02.448850Z",
     "start_time": "2024-12-14T12:21:02.446760Z"
    }
   },
   "cell_type": "code",
   "source": "",
   "outputs": [],
   "execution_count": null
  }
 ],
 "metadata": {
  "kernelspec": {
   "display_name": "dmlab",
   "language": "python",
   "name": "python3"
  },
  "language_info": {
   "codemirror_mode": {
    "name": "ipython",
    "version": 3
   },
   "file_extension": ".py",
   "mimetype": "text/x-python",
   "name": "python",
   "nbconvert_exporter": "python",
   "pygments_lexer": "ipython3",
   "version": "3.11.0"
  }
 },
 "nbformat": 4,
 "nbformat_minor": 4
}

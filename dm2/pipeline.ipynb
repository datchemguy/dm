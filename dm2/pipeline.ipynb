{
 "cells": [
  {
   "cell_type": "markdown",
   "metadata": {},
   "source": [
    "# Data Mining Lab 3 Pipeline Assignment\n",
    "\n",
    "**Medium articles** are used to disseminate knowledge and are written on a wide range of technical and non-technical topics. Users subscribe to different reading lists where reading lists represent either domains or certain topics. This naturally gives rise to a network structure where articles may belong to the same reading lists and hence are related to each other. Each article belongs to a certain topic. Automatically assigning articles to topics is very valuable for search applications. **The goal of this task is to classify articles by predicting their topics.**\n",
    "\n",
    "A dataset of medium articles along with subscription lists and topic tags is provided. The task is to classify articles into tags (i.e., topics), leveraging the network structure arising from relations using the subscription lists. Specifically, two nodes are connected if they share at least one list.\n",
    "\n",
    "**For this task you may only use the following libraries**: `numpy`, `pandas`, `matplotlib`, `networkx`, `gensim`.\n"
   ]
  },
  {
   "cell_type": "code",
   "metadata": {
    "ExecuteTime": {
     "end_time": "2025-01-04T15:31:17.151872Z",
     "start_time": "2025-01-04T15:31:14.581276Z"
    }
   },
   "source": [
    "from collections import defaultdict\n",
    "from itertools import combinations\n",
    "from pathlib import Path\n",
    "\n",
    "import networkx as nx\n",
    "import pandas as pd\n",
    "import numpy as np\n",
    "from matplotlib import pyplot as plt\n",
    "from gensim.models import Word2Vec, KeyedVectors"
   ],
   "outputs": [],
   "execution_count": 1
  },
  {
   "cell_type": "markdown",
   "metadata": {},
   "source": [
    "## Data loading\n",
    "\n",
    "The data is provided in three files which can be found in the `data` directory:\n",
    "\n",
    "- `articles.csv`: Contains the articles along with the subscription lists and some metadata.\n",
    "- `test_data.csv`: Contains a subset of nodes (articles) along with their labels (topics) used for testing.\n",
    "- `train_data.csv`: Contains the remaining nodes (articles) along with their labels (topics).\n",
    "\n",
    "**Important**: There is no specific training data requried for this assignment, since the node embeddings (task 3) are trained on the entire graph. The nodes in `train_data.csv` must be used for the kNN classifier, i.e., the computed nearest neighbors for a test node may only be nodes from this file.\n",
    "\n",
    "Let's use `pandas` to read these files:\n"
   ]
  },
  {
   "cell_type": "code",
   "metadata": {
    "ExecuteTime": {
     "end_time": "2025-01-04T15:31:20.121199Z",
     "start_time": "2025-01-04T15:31:19.829847Z"
    }
   },
   "source": [
    "articles = pd.read_csv(Path(\"data\") / \"articles.csv\")\n",
    "articles[\"node_id\"] = articles.index\n",
    "articles[\"lists\"] = articles[\"lists\"].str.split(\"; \")\n",
    "test_data = pd.read_csv(Path(\"data\") / \"test_data.csv\")\n",
    "train_data = pd.read_csv(Path(\"data\") / \"train_data.csv\")"
   ],
   "outputs": [],
   "execution_count": 2
  },
  {
   "cell_type": "markdown",
   "metadata": {},
   "source": [
    "Note that we have assigned node IDs based on where each article is located in the file.\n",
    "\n",
    "We can now inspect the individual data frames:\n"
   ]
  },
  {
   "cell_type": "code",
   "metadata": {
    "ExecuteTime": {
     "end_time": "2025-01-04T10:58:42.334161Z",
     "start_time": "2025-01-04T10:58:42.323114Z"
    }
   },
   "source": [
    "articles.head(2)"
   ],
   "outputs": [
    {
     "data": {
      "text/plain": [
       "                                             article  \\\n",
       "0  https://medium.com/@maniakacademy/code-demo-sh...   \n",
       "1  https://medium.com/towards-artificial-intellig...   \n",
       "\n",
       "                                               title  \\\n",
       "0  Code/Demo Share: Palo Alto Firewall Network In...   \n",
       "1              Clustering using Social Graph Network   \n",
       "\n",
       "                                            subtitle                 author  \\\n",
       "0  IP is broken as a unit of Control! IDENTITY as...       Sebastian Maniak   \n",
       "1  A Social Graph Network can be formed when ther...  Naveed Ahmed Janvekar   \n",
       "\n",
       "         date                                              lists  node_id  \n",
       "0  2022-08-17  [https://medium.com/@zemmali1990/list/aws-49f6...        0  \n",
       "1  2022-01-29  [https://medium.com/@TomaszCieplak/list/graph-...        1  "
      ],
      "text/html": [
       "<div>\n",
       "<style scoped>\n",
       "    .dataframe tbody tr th:only-of-type {\n",
       "        vertical-align: middle;\n",
       "    }\n",
       "\n",
       "    .dataframe tbody tr th {\n",
       "        vertical-align: top;\n",
       "    }\n",
       "\n",
       "    .dataframe thead th {\n",
       "        text-align: right;\n",
       "    }\n",
       "</style>\n",
       "<table border=\"1\" class=\"dataframe\">\n",
       "  <thead>\n",
       "    <tr style=\"text-align: right;\">\n",
       "      <th></th>\n",
       "      <th>article</th>\n",
       "      <th>title</th>\n",
       "      <th>subtitle</th>\n",
       "      <th>author</th>\n",
       "      <th>date</th>\n",
       "      <th>lists</th>\n",
       "      <th>node_id</th>\n",
       "    </tr>\n",
       "  </thead>\n",
       "  <tbody>\n",
       "    <tr>\n",
       "      <th>0</th>\n",
       "      <td>https://medium.com/@maniakacademy/code-demo-sh...</td>\n",
       "      <td>Code/Demo Share: Palo Alto Firewall Network In...</td>\n",
       "      <td>IP is broken as a unit of Control! IDENTITY as...</td>\n",
       "      <td>Sebastian Maniak</td>\n",
       "      <td>2022-08-17</td>\n",
       "      <td>[https://medium.com/@zemmali1990/list/aws-49f6...</td>\n",
       "      <td>0</td>\n",
       "    </tr>\n",
       "    <tr>\n",
       "      <th>1</th>\n",
       "      <td>https://medium.com/towards-artificial-intellig...</td>\n",
       "      <td>Clustering using Social Graph Network</td>\n",
       "      <td>A Social Graph Network can be formed when ther...</td>\n",
       "      <td>Naveed Ahmed Janvekar</td>\n",
       "      <td>2022-01-29</td>\n",
       "      <td>[https://medium.com/@TomaszCieplak/list/graph-...</td>\n",
       "      <td>1</td>\n",
       "    </tr>\n",
       "  </tbody>\n",
       "</table>\n",
       "</div>"
      ]
     },
     "execution_count": 3,
     "metadata": {},
     "output_type": "execute_result"
    }
   ],
   "execution_count": 3
  },
  {
   "cell_type": "code",
   "metadata": {
    "ExecuteTime": {
     "end_time": "2025-01-04T10:58:42.357910Z",
     "start_time": "2025-01-04T10:58:42.351803Z"
    }
   },
   "source": [
    "test_data.head(2)"
   ],
   "outputs": [
    {
     "data": {
      "text/plain": [
       "   node_id                    label\n",
       "0     2291  artificial-intelligence\n",
       "1     7292  artificial-intelligence"
      ],
      "text/html": [
       "<div>\n",
       "<style scoped>\n",
       "    .dataframe tbody tr th:only-of-type {\n",
       "        vertical-align: middle;\n",
       "    }\n",
       "\n",
       "    .dataframe tbody tr th {\n",
       "        vertical-align: top;\n",
       "    }\n",
       "\n",
       "    .dataframe thead th {\n",
       "        text-align: right;\n",
       "    }\n",
       "</style>\n",
       "<table border=\"1\" class=\"dataframe\">\n",
       "  <thead>\n",
       "    <tr style=\"text-align: right;\">\n",
       "      <th></th>\n",
       "      <th>node_id</th>\n",
       "      <th>label</th>\n",
       "    </tr>\n",
       "  </thead>\n",
       "  <tbody>\n",
       "    <tr>\n",
       "      <th>0</th>\n",
       "      <td>2291</td>\n",
       "      <td>artificial-intelligence</td>\n",
       "    </tr>\n",
       "    <tr>\n",
       "      <th>1</th>\n",
       "      <td>7292</td>\n",
       "      <td>artificial-intelligence</td>\n",
       "    </tr>\n",
       "  </tbody>\n",
       "</table>\n",
       "</div>"
      ]
     },
     "execution_count": 4,
     "metadata": {},
     "output_type": "execute_result"
    }
   ],
   "execution_count": 4
  },
  {
   "cell_type": "markdown",
   "metadata": {},
   "source": [
    "Next, let's create our graph. We'll create one node for each article and insert an edge between two articles if they share at least one subscription list:\n"
   ]
  },
  {
   "cell_type": "code",
   "metadata": {
    "ExecuteTime": {
     "end_time": "2025-01-04T15:31:27.136181Z",
     "start_time": "2025-01-04T15:31:24.952352Z"
    }
   },
   "source": [
    "medium_graph = nx.Graph()\n",
    "medium_graph.add_nodes_from(articles[\"node_id\"].to_list())\n",
    "\n",
    "list_to_nodes = defaultdict(set)\n",
    "for _, row in articles[[\"node_id\", \"lists\"]].iterrows():\n",
    "    for l in row[\"lists\"]:\n",
    "        list_to_nodes[l].add(row[\"node_id\"])\n",
    "\n",
    "for node_ids in list_to_nodes.values():\n",
    "    medium_graph.add_edges_from(combinations(node_ids, 2))"
   ],
   "outputs": [],
   "execution_count": 3
  },
  {
   "cell_type": "markdown",
   "metadata": {},
   "source": [
    "## Tasks\n",
    "\n",
    "1. Familiarization: Analyze the graph. Compute and plot statistics such as the number of nodes, number of edges, number of neighbors of each node, and so on. Are there any isolated nodes (i.e., nodes that do not have a single neighbor)?\n",
    "2. Compute spectral node embeddings.\n",
    "3. Perform random walks on the graph to obtain a set of sequences of nodes. Use those sequences to compute node embeddings. Hint: You may use the Word2vec implementation of the gensim library for this task. By treating each node as a word, this method will give you node embeddings.\n",
    "4. Implement a simple k-nearest neighbor classifier: For each node (medium article) in the test set, compute its nearest neighbors (based on the similarity of node embeddings). The classifier assigns a label (i.e., a topic) based on the topics of the nearest neighbors. Specifically, the predicted topic is simply the most common topic among the nearest neighbors. Compare both sets of node embeddings in terms of performance. Which one works better?\n"
   ]
  },
  {
   "metadata": {},
   "cell_type": "markdown",
   "source": [
    "### Q1\n",
    "\n",
    "The stats we show are the ones mentioned in the question"
   ]
  },
  {
   "metadata": {
    "ExecuteTime": {
     "end_time": "2025-01-04T15:31:32.337650Z",
     "start_time": "2025-01-04T15:31:32.213843Z"
    }
   },
   "cell_type": "code",
   "source": [
    "num_nodes = medium_graph.number_of_nodes()\n",
    "print(\"Number of nodes:\", num_nodes)\n",
    "num_edges = medium_graph.number_of_edges()\n",
    "print(\"Number of edges:\", num_edges)\n",
    "\n",
    "# Then we also print the degrees of several nodes\n",
    "print_lim = 10\n",
    "isolated = 0\n",
    "for n in medium_graph.nodes:\n",
    "    deg = medium_graph.degree(n)\n",
    "    if print_lim > 0:\n",
    "        print(f\"Node {n} has {deg} neighbors\")\n",
    "        print_lim -= 1\n",
    "    if deg == 0:\n",
    "        isolated += 1\n",
    "print(f\"There are {isolated} isolated nodes\")\n",
    "some_nodes = list(medium_graph.nodes)[:1000]\n",
    "plt.xlabel(\"Node ID\")\n",
    "plt.ylabel(\"Number of neighbors\")\n",
    "plt.plot(some_nodes, [medium_graph.degree[i] for i in some_nodes])\n",
    "plt.show()"
   ],
   "outputs": [
    {
     "name": "stdout",
     "output_type": "stream",
     "text": [
      "Number of nodes: 27718\n",
      "Number of edges: 2014162\n",
      "Node 0 has 144 neighbors\n",
      "Node 1 has 102 neighbors\n",
      "Node 2 has 18 neighbors\n",
      "Node 3 has 34 neighbors\n",
      "Node 4 has 15 neighbors\n",
      "Node 5 has 8 neighbors\n",
      "Node 6 has 317 neighbors\n",
      "Node 7 has 154 neighbors\n",
      "Node 8 has 198 neighbors\n",
      "Node 9 has 37 neighbors\n",
      "There are 347 isolated nodes\n"
     ]
    },
    {
     "data": {
      "text/plain": [
       "<Figure size 640x480 with 1 Axes>"
      ],
      "image/png": "[encoded data removed]"
     },
     "metadata": {},
     "output_type": "display_data"
    }
   ],
   "execution_count": 4
  },
  {
   "metadata": {},
   "cell_type": "markdown",
   "source": "We can see that the nodes have neighbors within the tens and sometimes hundreds, up to over 1000."
  },
  {
   "metadata": {},
   "cell_type": "markdown",
   "source": [
    "### Q2\n",
    "\n",
    "This is the weblab function, the only modification being that it saves the whole eigenvector matrix to a file before returning the embeddings.\n",
    "\n",
    "## WARNING\n",
    "\n",
    "The function takes 30 minutes to run, and the file will be 6 GB. If you have a .npy file of your own, copy it into this folder and name it 'spectral.npy'."
   ]
  },
  {
   "metadata": {
    "ExecuteTime": {
     "end_time": "2025-01-04T15:31:37.825103Z",
     "start_time": "2025-01-04T15:31:37.820898Z"
    }
   },
   "cell_type": "code",
   "source": [
    "def compute_spectral_embeddings(graph: nx.Graph, dim: int) -> np.ndarray:\n",
    "    \"\"\"Perform spectral clustering on the graph and compute low-dimensional node representations.\n",
    "    Does not normalize the Laplacian.\n",
    "\n",
    "    Args:\n",
    "        graph (nx.Graph): The graph.\n",
    "        dim (int): The dimension of representations. This corresponds to the number of eigenvectors used.\n",
    "\n",
    "    Returns:\n",
    "        np.ndarray: Node representations (sorted by node ID, ascending), shape (num_nodes, dim).\n",
    "    \"\"\"\n",
    "    adjacency_matrix = nx.to_numpy_array(graph, nodelist=sorted(graph.nodes))\n",
    "\n",
    "    # make sure the matrix is symmetric\n",
    "    assert (adjacency_matrix == adjacency_matrix.T).all()\n",
    "\n",
    "    L = np.zeros(adjacency_matrix.shape)\n",
    "    for i in range(adjacency_matrix.shape[0]):\n",
    "        L[i][i] = np.sum(adjacency_matrix[i])\n",
    "    L -= adjacency_matrix\n",
    "    _, evecs = np.linalg.eigh(L)\n",
    "    np.save('spectral.npy', evecs)\n",
    "    return evecs[:, :dim]"
   ],
   "outputs": [],
   "execution_count": 5
  },
  {
   "metadata": {},
   "cell_type": "markdown",
   "source": "We use 128 dimensions at the suggestion of a TA, not after any training."
  },
  {
   "metadata": {
    "ExecuteTime": {
     "end_time": "2025-01-04T15:31:46.128292Z",
     "start_time": "2025-01-04T15:31:41.104169Z"
    }
   },
   "cell_type": "code",
   "source": [
    "dim = 128\n",
    "if Path('spectral.npy').exists():\n",
    "    spectral_embed = np.load('spectral.npy')[:, :dim]\n",
    "else:\n",
    "    spectral_embed = compute_spectral_embeddings(medium_graph, dim)\n",
    "spectral_embed"
   ],
   "outputs": [
    {
     "data": {
      "text/plain": [
       "array([[ 0.00000000e+00,  0.00000000e+00, -6.40289374e-03, ...,\n",
       "         0.00000000e+00,  0.00000000e+00,  0.00000000e+00],\n",
       "       [ 1.85276921e-16, -1.08831230e-16, -6.40289374e-03, ...,\n",
       "        -1.69494910e-17,  7.46108091e-17, -3.24551579e-17],\n",
       "       [ 1.80137552e-15, -2.72364226e-16, -6.40289374e-03, ...,\n",
       "        -2.77257867e-17, -3.13678747e-16, -6.13550376e-17],\n",
       "       ...,\n",
       "       [ 6.39730104e-17, -2.86947657e-16, -6.40289374e-03, ...,\n",
       "        -8.45459584e-17,  1.39631264e-16, -7.80629799e-17],\n",
       "       [-4.15669560e-16,  4.07117916e-17, -6.40289374e-03, ...,\n",
       "        -1.37957103e-16, -1.63307952e-17,  9.13237042e-17],\n",
       "       [-6.41008689e-04,  4.18450886e-03,  0.00000000e+00, ...,\n",
       "         2.04431634e-02, -3.91007366e-03, -9.56959206e-03]])"
      ]
     },
     "execution_count": 6,
     "metadata": {},
     "output_type": "execute_result"
    }
   ],
   "execution_count": 6
  },
  {
   "metadata": {},
   "cell_type": "markdown",
   "source": [
    "### Q3\n",
    "\n",
    "This function is what we have on weblab, except we had to handle isolated nodes. We do that by making them walk back to themselves. This way, they are entirely similar to themselves, and others are not similar to them at all."
   ]
  },
  {
   "metadata": {
    "ExecuteTime": {
     "end_time": "2025-01-04T15:38:47.099190Z",
     "start_time": "2025-01-04T15:38:47.094739Z"
    }
   },
   "cell_type": "code",
   "source": [
    "def random_walks(graph: nx.Graph, num_walks: int, walk_length: int) -> np.ndarray:\n",
    "    \"\"\"Perform random walks on an unweighted graph.\n",
    "\n",
    "    Args:\n",
    "        graph (nx.Graph): The graph.\n",
    "        num_walks (int): The number of random walks for each node.\n",
    "        walk_length (int): The number of nodes in a random walk.\n",
    "\n",
    "    Returns:\n",
    "        np.ndarray: The random walks, shape (n_nodes * num_walks, walk_length)\n",
    "    \"\"\"\n",
    "    result = np.zeros((num_nodes * num_walks, walk_length), dtype=int)\n",
    "\n",
    "    i = 0\n",
    "    for idx, node in enumerate(graph.nodes):\n",
    "        for walk in range(num_walks):\n",
    "            here = node\n",
    "            for j in range(walk_length):\n",
    "                result[i, j] = here\n",
    "                if not nx.is_isolate(graph, here):\n",
    "                    here = np.random.choice(graph[here])\n",
    "            i+=1\n",
    "\n",
    "    return result"
   ],
   "outputs": [],
   "execution_count": 17
  },
  {
   "metadata": {},
   "cell_type": "markdown",
   "source": "At first, we set the number of walks per node to 20 and the length to 5. The length being short probably helps in this context, the reasoning being that if we go too far along the links to other articles, it makes less sense to expect them to be about similar topics."
  },
  {
   "metadata": {
    "ExecuteTime": {
     "end_time": "2025-01-04T10:59:46.588213Z",
     "start_time": "2025-01-04T10:58:51.199459Z"
    }
   },
   "cell_type": "code",
   "source": [
    "num_walks = 20\n",
    "walk_length = 5\n",
    "random_walk_list = random_walks(medium_graph, num_walks, walk_length)\n",
    "random_walk_list"
   ],
   "outputs": [
    {
     "data": {
      "text/plain": [
       "array([[    0,  9290, 19561,  7904,  5735],\n",
       "       [    0, 16197, 16017, 24902, 22747],\n",
       "       [    0, 21835,  3745, 20019, 23033],\n",
       "       ...,\n",
       "       [27717,  8872,  9808, 23780, 24823],\n",
       "       [27717,  8872, 23780, 10861, 23780],\n",
       "       [27717,  8872, 10861, 27717,  9808]])"
      ]
     },
     "execution_count": 10,
     "metadata": {},
     "output_type": "execute_result"
    }
   ],
   "execution_count": 10
  },
  {
   "metadata": {},
   "cell_type": "markdown",
   "source": "Utility function for extracting embeds out of a Word2Vec model."
  },
  {
   "metadata": {
    "ExecuteTime": {
     "end_time": "2025-01-04T15:38:52.060298Z",
     "start_time": "2025-01-04T15:38:52.056994Z"
    }
   },
   "cell_type": "code",
   "source": [
    "def w2v_to_numpy(w2v: Word2Vec) -> np.ndarray:\n",
    "    return np.array([w2v.wv[i] for i in range(num_nodes)])"
   ],
   "outputs": [],
   "execution_count": 18
  },
  {
   "metadata": {},
   "cell_type": "markdown",
   "source": "We create a Word2Vec model using these random walks as sentences."
  },
  {
   "metadata": {
    "ExecuteTime": {
     "end_time": "2025-01-04T13:11:09.943733Z",
     "start_time": "2025-01-04T13:10:59.997636Z"
    }
   },
   "cell_type": "code",
   "source": [
    "model = Word2Vec(sentences=random_walk_list.tolist(), min_count=num_walks)\n",
    "random_walk_embed = w2v_to_numpy(model)"
   ],
   "outputs": [],
   "execution_count": 127
  },
  {
   "metadata": {},
   "cell_type": "markdown",
   "source": "### Q4"
  },
  {
   "metadata": {},
   "cell_type": "markdown",
   "source": "First we convert the train and test sets into arrays that we can work with."
  },
  {
   "metadata": {
    "ExecuteTime": {
     "end_time": "2025-01-04T15:31:55.732786Z",
     "start_time": "2025-01-04T15:31:55.615Z"
    }
   },
   "cell_type": "code",
   "source": [
    "train_labels = np.empty(num_nodes, dtype=object)\n",
    "for i in range(train_data.shape[0]):\n",
    "    train_labels[train_data['node_id'][i]] = train_data['label'][i]\n",
    "print(train_labels)"
   ],
   "outputs": [
    {
     "name": "stdout",
     "output_type": "stream",
     "text": [
      "['software-development' 'artificial-intelligence'\n",
      " 'artificial-intelligence' ... 'artificial-intelligence' None None]\n"
     ]
    }
   ],
   "execution_count": 7
  },
  {
   "metadata": {
    "ExecuteTime": {
     "end_time": "2025-01-04T15:31:56.493562Z",
     "start_time": "2025-01-04T15:31:56.469027Z"
    }
   },
   "cell_type": "code",
   "source": [
    "test_labels = np.empty(num_nodes, dtype=object)\n",
    "for i in range(test_data.shape[0]):\n",
    "    test_labels[test_data['node_id'][i]] = test_data['label'][i]\n",
    "print(test_labels)"
   ],
   "outputs": [
    {
     "name": "stdout",
     "output_type": "stream",
     "text": [
      "[None None None ... None 'software-development' 'software-development']\n"
     ]
    }
   ],
   "execution_count": 8
  },
  {
   "metadata": {},
   "cell_type": "markdown",
   "source": "For the similarity measure, we use (negative) Euclidean distance."
  },
  {
   "metadata": {
    "ExecuteTime": {
     "end_time": "2025-01-04T15:31:58.775454Z",
     "start_time": "2025-01-04T15:31:58.771945Z"
    }
   },
   "cell_type": "code",
   "source": [
    "def similarity(node_a: int, node_b: int, embed: np.ndarray[float]) -> float:\n",
    "    return -np.linalg.norm(embed[node_a] - embed[node_b])"
   ],
   "outputs": [],
   "execution_count": 9
  },
  {
   "metadata": {},
   "cell_type": "markdown",
   "source": [
    "Below we implement a k-NN classifier for random walk embeddings. This function takes a node, a list of known train labels for nodes, a prebuilt Word2Vec model, and a _k_ parameter. It returns the most common label among the given node's most similar _k_ nodes.\n",
    "\n",
    "(This is mostly meant for experimenting and tuning parameters, and is probably not how they expect us to use the Word2Vec. The general purpose classifier is below.)"
   ]
  },
  {
   "metadata": {
    "ExecuteTime": {
     "end_time": "2025-01-04T15:32:01.147356Z",
     "start_time": "2025-01-04T15:32:01.143533Z"
    }
   },
   "cell_type": "code",
   "source": [
    "def k_nearest_neighbors_wv(node_id: int, train_data: np.ndarray[str], embed_wv: KeyedVectors, k: int) -> str:\n",
    "    counts = {}\n",
    "    max_count = 0\n",
    "    label = None\n",
    "    for i, _ in embed_wv.most_similar(node_id)[:k]:\n",
    "        l = train_data[i]\n",
    "        c = counts.get(l, 0) + 1\n",
    "        if c > max_count:\n",
    "            max_count = c\n",
    "            label = l\n",
    "        counts[l] = c\n",
    "    return label"
   ],
   "outputs": [],
   "execution_count": 10
  },
  {
   "metadata": {},
   "cell_type": "markdown",
   "source": "Below we implement a k-NN classifier for general purpose. It takes the node id, the train labels of all nodes, their embeddings (spectral or random walk) and the _k_ parameter. It returns the most common label among the closest _k_ neighbors within the embedding space."
  },
  {
   "metadata": {
    "ExecuteTime": {
     "end_time": "2025-01-04T15:32:02.246462Z",
     "start_time": "2025-01-04T15:32:02.241409Z"
    }
   },
   "cell_type": "code",
   "source": [
    "import heapq\n",
    "\n",
    "def k_nearest_neighbors(node_id: int, train_data: np.ndarray[str], embed: np.ndarray[float] | KeyedVectors, k: int) -> str:\n",
    "    if type(embed) is KeyedVectors:\n",
    "        return k_nearest_neighbors_wv(node_id, train_data, embed, k)\n",
    "    dists: list[(float, int)] = [(similarity(i, node_id, embed), i) for i in range(k)]\n",
    "    heapq.heapify(dists)\n",
    "    for i in range(k, train_data.shape[0]):\n",
    "        d = similarity(i, node_id, embed)\n",
    "        m = dists[0][0]\n",
    "        if d > m:\n",
    "            heapq.heapreplace(dists, (d, i))\n",
    "    assert len(dists) == k\n",
    "    counts = {}\n",
    "    max_count = 0\n",
    "    label = None\n",
    "    for _, i in dists:\n",
    "        l = train_data[i]\n",
    "        c = counts.get(l, 0) + 1\n",
    "        if c > max_count:\n",
    "            max_count = c\n",
    "            label = l\n",
    "        counts[l] = c\n",
    "    return label"
   ],
   "outputs": [],
   "execution_count": 11
  },
  {
   "metadata": {},
   "cell_type": "markdown",
   "source": "Below is a function that calculates prediction accuracy over a validation sample of nodes."
  },
  {
   "metadata": {
    "ExecuteTime": {
     "end_time": "2025-01-04T15:32:05.795869Z",
     "start_time": "2025-01-04T15:32:05.792292Z"
    }
   },
   "cell_type": "code",
   "source": [
    "def accuracy(sample: np.ndarray[int], train_data: np.ndarray[str], embed: np.ndarray[float] | KeyedVectors, k: int) -> float:\n",
    "    correct = 0\n",
    "    for node_id in sample:\n",
    "        if k_nearest_neighbors(node_id, train_data, embed, k) == train_data[node_id]:\n",
    "            correct += 1\n",
    "    return correct / sample.shape[0]"
   ],
   "outputs": [],
   "execution_count": 12
  },
  {
   "metadata": {},
   "cell_type": "markdown",
   "source": [
    "We tune the _k_ parameter by taking several values and plotting the fraction of correct guesses for each.\n",
    "\n",
    "For tuning parameters, we will use the backup classifier, the one that uses the Word2Vec functionality. It would be very slow otherwise."
   ]
  },
  {
   "metadata": {
    "ExecuteTime": {
     "end_time": "2025-01-04T15:24:32.834255Z",
     "start_time": "2025-01-04T15:22:58.714696Z"
    }
   },
   "cell_type": "code",
   "source": [
    "# chosen_embed = spectral_embed # too slow\n",
    "chosen_embed = model.wv # backup\n",
    "k_list = list(range(1, 21))\n",
    "accuracies = []\n",
    "validation_size = int(0.4 * num_nodes) # percentage of train set that we use as validation set\n",
    "for k in k_list:\n",
    "    validation_nodes = np.random.choice(range(num_nodes), size=validation_size)\n",
    "    accuracies.append(accuracy(validation_nodes, train_labels, chosen_embed, k))\n",
    "    print(k) # progress bar\n",
    "plt.xticks(k_list)\n",
    "plt.xlabel('k (nearest neighbors)')\n",
    "plt.ylabel('Accuracy')\n",
    "plt.plot(k_list, accuracies)\n",
    "plt.show()"
   ],
   "outputs": [
    {
     "name": "stdout",
     "output_type": "stream",
     "text": [
      "1\n",
      "2\n",
      "3\n",
      "4\n",
      "5\n",
      "6\n",
      "7\n",
      "8\n",
      "9\n",
      "10\n",
      "11\n",
      "12\n",
      "13\n",
      "14\n",
      "15\n",
      "16\n",
      "17\n",
      "18\n",
      "19\n",
      "20\n"
     ]
    },
    {
     "data": {
      "text/plain": [
       "<Figure size 640x480 with 1 Axes>"
      ],
      "image/png": "[encoded data removed]"
     },
     "metadata": {},
     "output_type": "display_data"
    }
   ],
   "execution_count": 144
  },
  {
   "metadata": {},
   "cell_type": "markdown",
   "source": [
    "k = 12 seems to be a good choice.\n",
    "\n",
    "We take the _k_ value of 12 and we use it to adjust the random walk parameters (adjusting all 3 parameters in parallel would probably be very slow). First, we make a big embedding matrix so that we can subsample it, instead of having to rerun the slow function everytime. We try out discrete values for the parameters, otherwise it would be too slow.\n",
    "\n",
    "WARNING: random walks with large parameters can take long, results can be saved to file."
   ]
  },
  {
   "metadata": {
    "ExecuteTime": {
     "end_time": "2025-01-04T12:26:40.520789Z",
     "start_time": "2025-01-04T12:26:40.488570Z"
    }
   },
   "cell_type": "code",
   "source": [
    "random_walk_big = np.array([])\n",
    "if Path('random_walks.npy').exists():\n",
    "    random_walk_big = np.load('random_walks.npy')\n",
    "else:\n",
    "    random_walk_big = random_walks(medium_graph, num_walks=48, walk_length=20)\n",
    "    np.save('random_walks.npy', random_walk_big)"
   ],
   "outputs": [
    {
     "name": "stdout",
     "output_type": "stream",
     "text": [
      "yes\n"
     ]
    }
   ],
   "execution_count": 54
  },
  {
   "metadata": {},
   "cell_type": "markdown",
   "source": "WARNING: 12 minutes"
  },
  {
   "metadata": {
    "ExecuteTime": {
     "end_time": "2025-01-04T13:54:14.503284Z",
     "start_time": "2025-01-04T13:42:12.598042Z"
    }
   },
   "cell_type": "code",
   "source": [
    "w_lengths = [2, 3, 5, 10, 15]\n",
    "m_acc = 0\n",
    "m_w_length = 2\n",
    "m_n_walks = 2\n",
    "for n_walks in 2, 4, 8, 12, 16, 24, 48:\n",
    "    accs = []\n",
    "    for w_length in w_lengths:\n",
    "        print(f'{n_walks} walks, length {w_length}') # progress bar\n",
    "        model_training = Word2Vec(sentences=random_walk_big[::48 // n_walks, :w_length].tolist(), min_count=n_walks)\n",
    "        sample = np.random.choice(range(num_nodes), size = validation_size)\n",
    "        acc = accuracy(sample, train_labels, model_training.wv, k=12)\n",
    "        accs.append(acc)\n",
    "        if acc > m_acc:\n",
    "            m_acc = acc\n",
    "            m_w_length = w_length\n",
    "            m_n_walks = n_walks\n",
    "    plt.title(f'{n_walks} walks per node')\n",
    "    plt.xlabel('Length of walk')\n",
    "    plt.ylabel('Accuracy')\n",
    "    plt.plot(w_lengths, accs)\n",
    "    plt.xticks(w_lengths)\n",
    "    plt.show()\n",
    "print(f'Maximum accuracy {m_acc} for {m_n_walks} walks per node and {m_w_length} walk length')"
   ],
   "outputs": [
    {
     "data": {
      "text/plain": [
       "<Figure size 640x480 with 1 Axes>"
      ],
      "image/png": "[encoded data removed]"
     },
     "metadata": {},
     "output_type": "display_data"
    },
    {
     "data": {
      "text/plain": [
       "<Figure size 640x480 with 1 Axes>"
      ],
      "image/png": "[encoded data removed]"
     },
     "metadata": {},
     "output_type": "display_data"
    },
    {
     "data": {
      "text/plain": [
       "<Figure size 640x480 with 1 Axes>"
      ],
      "image/png": "[encoded data removed]"
     },
     "metadata": {},
     "output_type": "display_data"
    },
    {
     "data": {
      "text/plain": [
       "<Figure size 640x480 with 1 Axes>"
      ],
      "image/png": "[encoded data removed]"
     },
     "metadata": {},
     "output_type": "display_data"
    },
    {
     "data": {
      "text/plain": [
       "<Figure size 640x480 with 1 Axes>"
      ],
      "image/png": "[encoded data removed]"
     },
     "metadata": {},
     "output_type": "display_data"
    },
    {
     "data": {
      "text/plain": [
       "<Figure size 640x480 with 1 Axes>"
      ],
      "image/png": "[encoded data removed]"
     },
     "metadata": {},
     "output_type": "display_data"
    },
    {
     "data": {
      "text/plain": [
       "<Figure size 640x480 with 1 Axes>"
      ],
      "image/png": "[encoded data removed]"
     },
     "metadata": {},
     "output_type": "display_data"
    },
    {
     "name": "stdout",
     "output_type": "stream",
     "text": [
      "Maximum accuracy 0.6425543429241454 for 24 walks per node and 20 walk length\n"
     ]
    }
   ],
   "execution_count": 138
  },
  {
   "metadata": {},
   "cell_type": "markdown",
   "source": "Not great differences, but it seems that a good choice would be 24 walks and 5 walk length"
  },
  {
   "metadata": {},
   "cell_type": "markdown",
   "source": "Evaluating accuracy on the test set"
  },
  {
   "metadata": {
    "ExecuteTime": {
     "end_time": "2025-01-04T15:32:17.927094Z",
     "start_time": "2025-01-04T15:32:17.923354Z"
    }
   },
   "cell_type": "code",
   "source": [
    "def test_accuracy(embed: np.ndarray[float], k: int = 12) -> float:\n",
    "    correct = 0\n",
    "    total = 0\n",
    "    for i, label in enumerate(test_labels):\n",
    "        if i % 100 == 0:\n",
    "            print(i) # progress bar\n",
    "        if label:\n",
    "            total += 1\n",
    "            guessed_label = k_nearest_neighbors(i, train_labels, embed, k)\n",
    "            if guessed_label == label:\n",
    "                correct += 1\n",
    "    return correct / total"
   ],
   "outputs": [],
   "execution_count": 13
  },
  {
   "metadata": {
    "ExecuteTime": {
     "end_time": "2025-01-04T11:32:32.938563Z",
     "start_time": "2025-01-04T11:32:32.933797Z"
    }
   },
   "cell_type": "code",
   "source": [
    "def test_accuracy_wv(embed_wv: KeyedVectors, k: int = 12) -> float:\n",
    "    correct = 0\n",
    "    total = 0\n",
    "    for i, label in enumerate(test_labels):\n",
    "        if i % 100 == 0:\n",
    "            print(i) # progress bar\n",
    "        if label:\n",
    "            total += 1\n",
    "            guessed_label = k_nearest_neighbors_wv(i, train_labels, embed_wv, k)\n",
    "            if guessed_label == label:\n",
    "                correct += 1\n",
    "    return correct / total"
   ],
   "outputs": [],
   "execution_count": 34
  },
  {
   "metadata": {},
   "cell_type": "markdown",
   "source": "Setting up the random walk with the obtained params."
  },
  {
   "metadata": {
    "ExecuteTime": {
     "end_time": "2025-01-04T15:40:30.234177Z",
     "start_time": "2025-01-04T15:39:14.873028Z"
    }
   },
   "cell_type": "code",
   "source": [
    "n_walks_final = 24\n",
    "w_length_final = 5\n",
    "random_walk_final = random_walks(medium_graph, num_walks=n_walks_final, walk_length=w_length_final)\n",
    "model_final = Word2Vec(sentences=random_walk_final.tolist(), min_count=n_walks_final)\n",
    "random_walk_final_embed = w2v_to_numpy(model_final)"
   ],
   "outputs": [],
   "execution_count": 19
  },
  {
   "metadata": {},
   "cell_type": "markdown",
   "source": "WARNING: for an embed length of 100 it takes up to 5 minutes (if slower, you can restart the kernel to clear memory, then only run the cells that are needed, i.e. not the ones about training)"
  },
  {
   "metadata": {
    "ExecuteTime": {
     "end_time": "2025-01-04T15:37:59.423101Z",
     "start_time": "2025-01-04T15:32:37.150764Z"
    }
   },
   "cell_type": "code",
   "source": "print(test_accuracy(spectral_embed))",
   "outputs": [
    {
     "name": "stdout",
     "output_type": "stream",
     "text": [
      "0\n",
      "100\n",
      "200\n",
      "300\n",
      "400\n",
      "500\n",
      "600\n",
      "700\n",
      "800\n",
      "900\n",
      "1000\n",
      "1100\n",
      "1200\n",
      "1300\n",
      "1400\n",
      "1500\n",
      "1600\n",
      "1700\n",
      "1800\n",
      "1900\n",
      "2000\n",
      "2100\n",
      "2200\n",
      "2300\n",
      "2400\n",
      "2500\n",
      "2600\n",
      "2700\n",
      "2800\n",
      "2900\n",
      "3000\n",
      "3100\n",
      "3200\n",
      "3300\n",
      "3400\n",
      "3500\n",
      "3600\n",
      "3700\n",
      "3800\n",
      "3900\n",
      "4000\n",
      "4100\n",
      "4200\n",
      "4300\n",
      "4400\n",
      "4500\n",
      "4600\n",
      "4700\n",
      "4800\n",
      "4900\n",
      "5000\n",
      "5100\n",
      "5200\n",
      "5300\n",
      "5400\n",
      "5500\n",
      "5600\n",
      "5700\n",
      "5800\n",
      "5900\n",
      "6000\n",
      "6100\n",
      "6200\n",
      "6300\n",
      "6400\n",
      "6500\n",
      "6600\n",
      "6700\n",
      "6800\n",
      "6900\n",
      "7000\n",
      "7100\n",
      "7200\n",
      "7300\n",
      "7400\n",
      "7500\n",
      "7600\n",
      "7700\n",
      "7800\n",
      "7900\n",
      "8000\n",
      "8100\n",
      "8200\n",
      "8300\n",
      "8400\n",
      "8500\n",
      "8600\n",
      "8700\n",
      "8800\n",
      "8900\n",
      "9000\n",
      "9100\n",
      "9200\n",
      "9300\n",
      "9400\n",
      "9500\n",
      "9600\n",
      "9700\n",
      "9800\n",
      "9900\n",
      "10000\n",
      "10100\n",
      "10200\n",
      "10300\n",
      "10400\n",
      "10500\n",
      "10600\n",
      "10700\n",
      "10800\n",
      "10900\n",
      "11000\n",
      "11100\n",
      "11200\n",
      "11300\n",
      "11400\n",
      "11500\n",
      "11600\n",
      "11700\n",
      "11800\n",
      "11900\n",
      "12000\n",
      "12100\n",
      "12200\n",
      "12300\n",
      "12400\n",
      "12500\n",
      "12600\n",
      "12700\n",
      "12800\n",
      "12900\n",
      "13000\n",
      "13100\n",
      "13200\n",
      "13300\n",
      "13400\n",
      "13500\n",
      "13600\n",
      "13700\n",
      "13800\n",
      "13900\n",
      "14000\n",
      "14100\n",
      "14200\n",
      "14300\n",
      "14400\n",
      "14500\n",
      "14600\n",
      "14700\n",
      "14800\n",
      "14900\n",
      "15000\n",
      "15100\n",
      "15200\n",
      "15300\n",
      "15400\n",
      "15500\n",
      "15600\n",
      "15700\n",
      "15800\n",
      "15900\n",
      "16000\n",
      "16100\n",
      "16200\n",
      "16300\n",
      "16400\n",
      "16500\n",
      "16600\n",
      "16700\n",
      "16800\n",
      "16900\n",
      "17000\n",
      "17100\n",
      "17200\n",
      "17300\n",
      "17400\n",
      "17500\n",
      "17600\n",
      "17700\n",
      "17800\n",
      "17900\n",
      "18000\n",
      "18100\n",
      "18200\n",
      "18300\n",
      "18400\n",
      "18500\n",
      "18600\n",
      "18700\n",
      "18800\n",
      "18900\n",
      "19000\n",
      "19100\n",
      "19200\n",
      "19300\n",
      "19400\n",
      "19500\n",
      "19600\n",
      "19700\n",
      "19800\n",
      "19900\n",
      "20000\n",
      "20100\n",
      "20200\n",
      "20300\n",
      "20400\n",
      "20500\n",
      "20600\n",
      "20700\n",
      "20800\n",
      "20900\n",
      "21000\n",
      "21100\n",
      "21200\n",
      "21300\n",
      "21400\n",
      "21500\n",
      "21600\n",
      "21700\n",
      "21800\n",
      "21900\n",
      "22000\n",
      "22100\n",
      "22200\n",
      "22300\n",
      "22400\n",
      "22500\n",
      "22600\n",
      "22700\n",
      "22800\n",
      "22900\n",
      "23000\n",
      "23100\n",
      "23200\n",
      "23300\n",
      "23400\n",
      "23500\n",
      "23600\n",
      "23700\n",
      "23800\n",
      "23900\n",
      "24000\n",
      "24100\n",
      "24200\n",
      "24300\n",
      "24400\n",
      "24500\n",
      "24600\n",
      "24700\n",
      "24800\n",
      "24900\n",
      "25000\n",
      "25100\n",
      "25200\n",
      "25300\n",
      "25400\n",
      "25500\n",
      "25600\n",
      "25700\n",
      "25800\n",
      "25900\n",
      "26000\n",
      "26100\n",
      "26200\n",
      "26300\n",
      "26400\n",
      "26500\n",
      "26600\n",
      "26700\n",
      "26800\n",
      "26900\n",
      "27000\n",
      "27100\n",
      "27200\n",
      "27300\n",
      "27400\n",
      "27500\n",
      "27600\n",
      "27700\n",
      "0.7344303797468354\n"
     ]
    }
   ],
   "execution_count": 14
  },
  {
   "metadata": {
    "ExecuteTime": {
     "end_time": "2025-01-04T15:45:20.728909Z",
     "start_time": "2025-01-04T15:40:36.358220Z"
    }
   },
   "cell_type": "code",
   "source": "print(test_accuracy(random_walk_final_embed))",
   "outputs": [
    {
     "name": "stdout",
     "output_type": "stream",
     "text": [
      "0\n",
      "100\n",
      "200\n",
      "300\n",
      "400\n",
      "500\n",
      "600\n",
      "700\n",
      "800\n",
      "900\n",
      "1000\n",
      "1100\n",
      "1200\n",
      "1300\n",
      "1400\n",
      "1500\n",
      "1600\n",
      "1700\n",
      "1800\n",
      "1900\n",
      "2000\n",
      "2100\n",
      "2200\n",
      "2300\n",
      "2400\n",
      "2500\n",
      "2600\n",
      "2700\n",
      "2800\n",
      "2900\n",
      "3000\n",
      "3100\n",
      "3200\n",
      "3300\n",
      "3400\n",
      "3500\n",
      "3600\n",
      "3700\n",
      "3800\n",
      "3900\n",
      "4000\n",
      "4100\n",
      "4200\n",
      "4300\n",
      "4400\n",
      "4500\n",
      "4600\n",
      "4700\n",
      "4800\n",
      "4900\n",
      "5000\n",
      "5100\n",
      "5200\n",
      "5300\n",
      "5400\n",
      "5500\n",
      "5600\n",
      "5700\n",
      "5800\n",
      "5900\n",
      "6000\n",
      "6100\n",
      "6200\n",
      "6300\n",
      "6400\n",
      "6500\n",
      "6600\n",
      "6700\n",
      "6800\n",
      "6900\n",
      "7000\n",
      "7100\n",
      "7200\n",
      "7300\n",
      "7400\n",
      "7500\n",
      "7600\n",
      "7700\n",
      "7800\n",
      "7900\n",
      "8000\n",
      "8100\n",
      "8200\n",
      "8300\n",
      "8400\n",
      "8500\n",
      "8600\n",
      "8700\n",
      "8800\n",
      "8900\n",
      "9000\n",
      "9100\n",
      "9200\n",
      "9300\n",
      "9400\n",
      "9500\n",
      "9600\n",
      "9700\n",
      "9800\n",
      "9900\n",
      "10000\n",
      "10100\n",
      "10200\n",
      "10300\n",
      "10400\n",
      "10500\n",
      "10600\n",
      "10700\n",
      "10800\n",
      "10900\n",
      "11000\n",
      "11100\n",
      "11200\n",
      "11300\n",
      "11400\n",
      "11500\n",
      "11600\n",
      "11700\n",
      "11800\n",
      "11900\n",
      "12000\n",
      "12100\n",
      "12200\n",
      "12300\n",
      "12400\n",
      "12500\n",
      "12600\n",
      "12700\n",
      "12800\n",
      "12900\n",
      "13000\n",
      "13100\n",
      "13200\n",
      "13300\n",
      "13400\n",
      "13500\n",
      "13600\n",
      "13700\n",
      "13800\n",
      "13900\n",
      "14000\n",
      "14100\n",
      "14200\n",
      "14300\n",
      "14400\n",
      "14500\n",
      "14600\n",
      "14700\n",
      "14800\n",
      "14900\n",
      "15000\n",
      "15100\n",
      "15200\n",
      "15300\n",
      "15400\n",
      "15500\n",
      "15600\n",
      "15700\n",
      "15800\n",
      "15900\n",
      "16000\n",
      "16100\n",
      "16200\n",
      "16300\n",
      "16400\n",
      "16500\n",
      "16600\n",
      "16700\n",
      "16800\n",
      "16900\n",
      "17000\n",
      "17100\n",
      "17200\n",
      "17300\n",
      "17400\n",
      "17500\n",
      "17600\n",
      "17700\n",
      "17800\n",
      "17900\n",
      "18000\n",
      "18100\n",
      "18200\n",
      "18300\n",
      "18400\n",
      "18500\n",
      "18600\n",
      "18700\n",
      "18800\n",
      "18900\n",
      "19000\n",
      "19100\n",
      "19200\n",
      "19300\n",
      "19400\n",
      "19500\n",
      "19600\n",
      "19700\n",
      "19800\n",
      "19900\n",
      "20000\n",
      "20100\n",
      "20200\n",
      "20300\n",
      "20400\n",
      "20500\n",
      "20600\n",
      "20700\n",
      "20800\n",
      "20900\n",
      "21000\n",
      "21100\n",
      "21200\n",
      "21300\n",
      "21400\n",
      "21500\n",
      "21600\n",
      "21700\n",
      "21800\n",
      "21900\n",
      "22000\n",
      "22100\n",
      "22200\n",
      "22300\n",
      "22400\n",
      "22500\n",
      "22600\n",
      "22700\n",
      "22800\n",
      "22900\n",
      "23000\n",
      "23100\n",
      "23200\n",
      "23300\n",
      "23400\n",
      "23500\n",
      "23600\n",
      "23700\n",
      "23800\n",
      "23900\n",
      "24000\n",
      "24100\n",
      "24200\n",
      "24300\n",
      "24400\n",
      "24500\n",
      "24600\n",
      "24700\n",
      "24800\n",
      "24900\n",
      "25000\n",
      "25100\n",
      "25200\n",
      "25300\n",
      "25400\n",
      "25500\n",
      "25600\n",
      "25700\n",
      "25800\n",
      "25900\n",
      "26000\n",
      "26100\n",
      "26200\n",
      "26300\n",
      "26400\n",
      "26500\n",
      "26600\n",
      "26700\n",
      "26800\n",
      "26900\n",
      "27000\n",
      "27100\n",
      "27200\n",
      "27300\n",
      "27400\n",
      "27500\n",
      "27600\n",
      "27700\n",
      "0.7435443037974684\n"
     ]
    }
   ],
   "execution_count": 20
  },
  {
   "metadata": {
    "ExecuteTime": {
     "end_time": "2025-01-04T15:26:18.767123Z",
     "start_time": "2025-01-04T15:26:16.969658Z"
    }
   },
   "cell_type": "code",
   "source": "print(test_accuracy_wv(model.wv)) # just for fun",
   "outputs": [
    {
     "name": "stdout",
     "output_type": "stream",
     "text": [
      "0\n",
      "100\n",
      "200\n",
      "300\n",
      "400\n",
      "500\n",
      "600\n",
      "700\n",
      "800\n",
      "900\n",
      "1000\n",
      "1100\n",
      "1200\n",
      "1300\n",
      "1400\n",
      "1500\n",
      "1600\n",
      "1700\n",
      "1800\n",
      "1900\n",
      "2000\n",
      "2100\n",
      "2200\n",
      "2300\n",
      "2400\n",
      "2500\n",
      "2600\n",
      "2700\n",
      "2800\n",
      "2900\n",
      "3000\n",
      "3100\n",
      "3200\n",
      "3300\n",
      "3400\n",
      "3500\n",
      "3600\n",
      "3700\n",
      "3800\n",
      "3900\n",
      "4000\n",
      "4100\n",
      "4200\n",
      "4300\n",
      "4400\n",
      "4500\n",
      "4600\n",
      "4700\n",
      "4800\n",
      "4900\n",
      "5000\n",
      "5100\n",
      "5200\n",
      "5300\n",
      "5400\n",
      "5500\n",
      "5600\n",
      "5700\n",
      "5800\n",
      "5900\n",
      "6000\n",
      "6100\n",
      "6200\n",
      "6300\n",
      "6400\n",
      "6500\n",
      "6600\n",
      "6700\n",
      "6800\n",
      "6900\n",
      "7000\n",
      "7100\n",
      "7200\n",
      "7300\n",
      "7400\n",
      "7500\n",
      "7600\n",
      "7700\n",
      "7800\n",
      "7900\n",
      "8000\n",
      "8100\n",
      "8200\n",
      "8300\n",
      "8400\n",
      "8500\n",
      "8600\n",
      "8700\n",
      "8800\n",
      "8900\n",
      "9000\n",
      "9100\n",
      "9200\n",
      "9300\n",
      "9400\n",
      "9500\n",
      "9600\n",
      "9700\n",
      "9800\n",
      "9900\n",
      "10000\n",
      "10100\n",
      "10200\n",
      "10300\n",
      "10400\n",
      "10500\n",
      "10600\n",
      "10700\n",
      "10800\n",
      "10900\n",
      "11000\n",
      "11100\n",
      "11200\n",
      "11300\n",
      "11400\n",
      "11500\n",
      "11600\n",
      "11700\n",
      "11800\n",
      "11900\n",
      "12000\n",
      "12100\n",
      "12200\n",
      "12300\n",
      "12400\n",
      "12500\n",
      "12600\n",
      "12700\n",
      "12800\n",
      "12900\n",
      "13000\n",
      "13100\n",
      "13200\n",
      "13300\n",
      "13400\n",
      "13500\n",
      "13600\n",
      "13700\n",
      "13800\n",
      "13900\n",
      "14000\n",
      "14100\n",
      "14200\n",
      "14300\n",
      "14400\n",
      "14500\n",
      "14600\n",
      "14700\n",
      "14800\n",
      "14900\n",
      "15000\n",
      "15100\n",
      "15200\n",
      "15300\n",
      "15400\n",
      "15500\n",
      "15600\n",
      "15700\n",
      "15800\n",
      "15900\n",
      "16000\n",
      "16100\n",
      "16200\n",
      "16300\n",
      "16400\n",
      "16500\n",
      "16600\n",
      "16700\n",
      "16800\n",
      "16900\n",
      "17000\n",
      "17100\n",
      "17200\n",
      "17300\n",
      "17400\n",
      "17500\n",
      "17600\n",
      "17700\n",
      "17800\n",
      "17900\n",
      "18000\n",
      "18100\n",
      "18200\n",
      "18300\n",
      "18400\n",
      "18500\n",
      "18600\n",
      "18700\n",
      "18800\n",
      "18900\n",
      "19000\n",
      "19100\n",
      "19200\n",
      "19300\n",
      "19400\n",
      "19500\n",
      "19600\n",
      "19700\n",
      "19800\n",
      "19900\n",
      "20000\n",
      "20100\n",
      "20200\n",
      "20300\n",
      "20400\n",
      "20500\n",
      "20600\n",
      "20700\n",
      "20800\n",
      "20900\n",
      "21000\n",
      "21100\n",
      "21200\n",
      "21300\n",
      "21400\n",
      "21500\n",
      "21600\n",
      "21700\n",
      "21800\n",
      "21900\n",
      "22000\n",
      "22100\n",
      "22200\n",
      "22300\n",
      "22400\n",
      "22500\n",
      "22600\n",
      "22700\n",
      "22800\n",
      "22900\n",
      "23000\n",
      "23100\n",
      "23200\n",
      "23300\n",
      "23400\n",
      "23500\n",
      "23600\n",
      "23700\n",
      "23800\n",
      "23900\n",
      "24000\n",
      "24100\n",
      "24200\n",
      "24300\n",
      "24400\n",
      "24500\n",
      "24600\n",
      "24700\n",
      "24800\n",
      "24900\n",
      "25000\n",
      "25100\n",
      "25200\n",
      "25300\n",
      "25400\n",
      "25500\n",
      "25600\n",
      "25700\n",
      "25800\n",
      "25900\n",
      "26000\n",
      "26100\n",
      "26200\n",
      "26300\n",
      "26400\n",
      "26500\n",
      "26600\n",
      "26700\n",
      "26800\n",
      "26900\n",
      "27000\n",
      "27100\n",
      "27200\n",
      "27300\n",
      "27400\n",
      "27500\n",
      "27600\n",
      "27700\n",
      "0.7686075949367088\n"
     ]
    }
   ],
   "execution_count": 145
  },
  {
   "metadata": {},
   "cell_type": "markdown",
   "source": "\\>70%, good enough"
  }
 ],
 "metadata": {
  "kernelspec": {
   "display_name": "dmlab",
   "language": "python",
   "name": "python3"
  },
  "language_info": {
   "codemirror_mode": {
    "name": "ipython",
    "version": 3
   },
   "file_extension": ".py",
   "mimetype": "text/x-python",
   "name": "python",
   "nbconvert_exporter": "python",
   "pygments_lexer": "ipython3",
   "version": "3.11.0"
  }
 },
 "nbformat": 4,
 "nbformat_minor": 4
}

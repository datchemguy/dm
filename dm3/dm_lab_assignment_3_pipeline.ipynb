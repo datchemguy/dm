{
 "nbformat": 4,
 "nbformat_minor": 0,
 "metadata": {
  "colab": {
   "provenance": []
  },
  "kernelspec": {
   "name": "python3",
   "display_name": "Python 3 (ipykernel)",
   "language": "python"
  },
  "language_info": {
   "name": "python"
  }
 },
 "cells": [
  {
   "cell_type": "markdown",
   "source": [
    "### **For this assignment the only permitted libraries to use are Numpy, Scipy, MatplotLib and Pandas! Use of generative AI is not allowed.**"
   ],
   "metadata": {
    "id": "VbE7vCfXVzaP"
   }
  },
  {
   "cell_type": "code",
   "metadata": {
    "id": "z_fqGIrhUV4O",
    "ExecuteTime": {
     "end_time": "2025-01-17T15:05:59.555767Z",
     "start_time": "2025-01-17T15:05:58.988546Z"
    }
   },
   "source": [
    "import numpy as np\n",
    "import matplotlib.pyplot as plt\n",
    "from matplotlib import cm"
   ],
   "outputs": [],
   "execution_count": 1
  },
  {
   "cell_type": "markdown",
   "source": [
    "## Data loading"
   ],
   "metadata": {
    "id": "urGrRsg9WOOM"
   }
  },
  {
   "cell_type": "code",
   "source": [
    "# Unzip train_data.npy, test_data.npy, val_data.npy\n",
    "#!unzip all_data.zip\n",
    "\n",
    "# Load the data\n",
    "train_data = np.load('train_data.npy')\n",
    "test_data = np.load('test_data.npy')\n",
    "val_data = np.load('val_data.npy')"
   ],
   "metadata": {
    "id": "ipRlBnoyUqWO",
    "ExecuteTime": {
     "end_time": "2025-01-17T15:05:59.770621Z",
     "start_time": "2025-01-17T15:05:59.560814Z"
    }
   },
   "outputs": [],
   "execution_count": 2
  },
  {
   "cell_type": "code",
   "source": [
    "# Visualize the [user x user] arrays\n",
    "cmap = cm.jet\n",
    "cmap.set_bad('white',1.)\n",
    "\n",
    "masked_array_train = np.ma.array(train_data, mask=np.isnan(train_data))\n",
    "plt.imshow(masked_array_train[:100,:100], interpolation='nearest', cmap=cmap)\n",
    "plt.pause(0.1)"
   ],
   "metadata": {
    "colab": {
     "base_uri": "https://localhost:8080/",
     "height": 435
    },
    "id": "9tNSavAhUwMN",
    "outputId": "a719ce94-1a57-4825-8823-b59e04e54061",
    "ExecuteTime": {
     "end_time": "2025-01-17T15:25:51.969569Z",
     "start_time": "2025-01-17T15:25:51.782687Z"
    }
   },
   "outputs": [
    {
     "data": {
      "text/plain": [
       "<Figure size 640x480 with 1 Axes>"
      ],
      "image/png": "[encoded data removed]"
     },
     "metadata": {},
     "output_type": "display_data"
    }
   ],
   "execution_count": 19
  },
  {
   "cell_type": "code",
   "source": [
    "# Further visualizations to justify your answers to the familiarization questions below\n",
    "print(masked_array_train[8,8])"
   ],
   "metadata": {
    "id": "D78CQHvSX1RQ",
    "ExecuteTime": {
     "end_time": "2025-01-17T15:26:34.615138Z",
     "start_time": "2025-01-17T15:26:34.611763Z"
    }
   },
   "outputs": [
    {
     "name": "stdout",
     "output_type": "stream",
     "text": [
      "1.0\n"
     ]
    }
   ],
   "execution_count": 21
  },
  {
   "cell_type": "markdown",
   "source": [
    "**Familiarization questions**\n",
    "\n",
    "1.\tWhat properties of the data do you think are important for your pipeline design? Think of the data sparsity and distribution of labels.\n",
    "\n",
    "2.\tWhat are some sources of sparsity in the data?\n",
    "\n",
    "        The data is sparse likely because few people have been questioned.\n",
    "\n",
    "3.\tDo you see different types of people (in terms of both which id pairs are present and what they liked/didn’t like)?\n",
    "\n",
    "        There is a diagonal of defined values 0/1, which seems to me like most people didn't like themselves, but a few did."
   ],
   "metadata": {
    "id": "FANz6-vJLKqF"
   }
  },
  {
   "cell_type": "markdown",
   "source": [
    "## WebLab solutions"
   ],
   "metadata": {
    "id": "hoRzcMOXY_R9"
   }
  },
  {
   "cell_type": "code",
   "source": [
    "# Solution: NMF routine (for unit test on weblab)\n",
    "\n",
    "def nmf(X, n_components: int, max_iter: int=1000, tol: float=1e-3):\n",
    "    \"\"\"\n",
    "    Decomposes the original sparse matrix X into two matrices W and H.\n",
    "    \"\"\"\n",
    "    X = np.array(X)\n",
    "    W = np.random.rand(X.shape[0], n_components)\n",
    "    H = np.random.rand(n_components, X.shape[1])\n",
    "\n",
    "    eps = 1e-9\n",
    "    temp = W @ H\n",
    "    e_old = np.linalg.norm(X - temp)\n",
    "    for _ in range(max_iter):\n",
    "        W *= (X @ H.T) / (temp @ H.T + eps)\n",
    "        H *= (W.T @ X) / (W.T @ W @ H + eps)\n",
    "        temp = W @ H\n",
    "        e = np.linalg.norm(X - temp)\n",
    "        if e_old - e < tol:\n",
    "            break\n",
    "        e_old = e\n",
    "\n",
    "    return W, H"
   ],
   "metadata": {
    "id": "VBjyU2z3Wu8X",
    "ExecuteTime": {
     "end_time": "2025-01-17T15:06:01.374246Z",
     "start_time": "2025-01-17T15:06:01.368926Z"
    }
   },
   "outputs": [],
   "execution_count": 5
  },
  {
   "cell_type": "code",
   "source": [
    "# Solution: Min-hashing routine (for unit test on weblab)\n",
    "import sys\n",
    "\n",
    "class HashFunction:\n",
    "    \"\"\"\n",
    "    This HashFunction class can be used to create a unique hash given an alpha and beta.\n",
    "    \"\"\"\n",
    "    def __init__(self, alpha, beta):\n",
    "        self.alpha, self.beta = alpha, beta\n",
    "\n",
    "    def hashf(self, x, n):\n",
    "        \"\"\"\n",
    "        Returns a hash given integers x and n.\n",
    "        :param x: The value to be hashed\n",
    "        :param n: The number of unique ids of all sets\n",
    "        :return: The hashed value x given alpha and beta\n",
    "        \"\"\"\n",
    "        return (self.alpha * x + self.beta) % n\n",
    "\n",
    "def compute_signature(hashes: list[HashFunction], ids: list[set[int]]):\n",
    "    \"\"\"\n",
    "    This function will calculate the MinHash signature matrix from our sets of ids\n",
    "    using the list of hash functions (hashes)\n",
    "    :param hashes: The list of hash functions of arbitrary length\n",
    "    :param ids: The list of sets of ids\n",
    "    :return: The MinHash signature matrix for the given sets of ids\n",
    "    \"\"\"\n",
    "\n",
    "    k = len(hashes)\n",
    "    n = len(ids)\n",
    "    result = np.full((k, n), sys.maxsize)\n",
    "    sorted_space = sorted(set().union(*ids))\n",
    "    slen = len(sorted_space)\n",
    "    hashres = np.zeros(k)\n",
    "\n",
    "    for u, user in enumerate(sorted_space):\n",
    "        hashres[:] = [f.hashf(u, slen) for f in hashes]\n",
    "        for i, likes in enumerate(ids):\n",
    "            if user in likes:\n",
    "                result[:, i] = np.minimum(result[:, i], hashres)\n",
    "\n",
    "    return result"
   ],
   "metadata": {
    "id": "xqt3ioz2YZiI",
    "ExecuteTime": {
     "end_time": "2025-01-17T15:30:46.149359Z",
     "start_time": "2025-01-17T15:30:46.143590Z"
    }
   },
   "outputs": [],
   "execution_count": 23
  },
  {
   "cell_type": "markdown",
   "source": [
    "## NMF-based recommender system"
   ],
   "metadata": {
    "id": "OXhnRoeIZCkh"
   }
  },
  {
   "cell_type": "code",
   "source": [
    "# Step 1: NMF routine which can handle NaNs! (for the 'real data' NMF recommender system task)\n",
    "\n",
    "def nmf_nan(X, n_components: int, max_iter: int=100, tol: float=1e-3):\n",
    "    \"\"\"\n",
    "    Computes NMF of matrix X which includes 'unknown' NaN values.\n",
    "    \"\"\"\n",
    "    X = np.array(X)\n",
    "    X = np.ma.array(X, mask=np.isnan(X))\n",
    "    W = np.random.rand(X.shape[0], n_components)\n",
    "    H = np.random.rand(n_components, X.shape[1])\n",
    "\n",
    "    eps = 1e-9\n",
    "    temp = W @ H\n",
    "    e_old = np.nansum((X - temp) ** 2)\n",
    "    e = e_old\n",
    "    for _ in range(max_iter):\n",
    "        W *= np.ma.dot(X, H.T) / (temp @ H.T + eps)\n",
    "        H *= np.ma.dot(W.T, X) / (W.T @ W @ H + eps)\n",
    "        temp = W @ H\n",
    "        e = np.nansum((X - temp) ** 2)\n",
    "        if e_old - e < tol:\n",
    "            break\n",
    "        e_old = e\n",
    "\n",
    "    return W, H, e"
   ],
   "metadata": {
    "id": "sUvhBxg_XENM",
    "ExecuteTime": {
     "end_time": "2025-01-17T15:06:01.406138Z",
     "start_time": "2025-01-17T15:06:01.401268Z"
    }
   },
   "outputs": [],
   "execution_count": 7
  },
  {
   "cell_type": "code",
   "source": [
    "# Step 2: Fit train data\n",
    "\n",
    "np.random.seed(5)\n",
    "list_components = np.array([5,10,20,50,100])\n",
    "\n",
    "# Compute nmf_nan() using the n_components in list_components, and following the instructions in the assignment pdf.\n",
    "comp_options = len(list_components)\n",
    "recons, errs = {}, []\n",
    "for comp in list_components:\n",
    "    w, h, err = nmf_nan(train_data, comp)\n",
    "    print(comp, err)\n",
    "    recons[comp] = w @ h\n",
    "    errs.append(err)\n",
    "\n",
    "# Plot the final reconstruction error as a function of n_components\n",
    "plt.plot(list_components, errs)\n",
    "plt.xticks(list_components)\n",
    "plt.yticks(errs)\n",
    "plt.show()"
   ],
   "metadata": {
    "id": "ul75kGUzX8yo",
    "ExecuteTime": {
     "end_time": "2025-01-17T15:08:35.120445Z",
     "start_time": "2025-01-17T15:06:01.418065Z"
    }
   },
   "outputs": [
    {
     "name": "stdout",
     "output_type": "stream",
     "text": [
      "5 9704.858877492721\n",
      "10 9233.354718234456\n",
      "20 8626.953606276336\n",
      "50 7459.576027926276\n",
      "100 6138.02125635147\n"
     ]
    },
    {
     "data": {
      "text/plain": [
       "<Figure size 640x480 with 1 Axes>"
      ],
      "image/png": "[encoded data removed]"
     },
     "metadata": {},
     "output_type": "display_data"
    }
   ],
   "execution_count": 8
  },
  {
   "metadata": {
    "ExecuteTime": {
     "end_time": "2025-01-17T15:08:35.145067Z",
     "start_time": "2025-01-17T15:08:35.142531Z"
    }
   },
   "cell_type": "code",
   "source": [
    "def accuracy(recon: np.ndarray, thr: float, baseline: np.ndarray) -> float:\n",
    "    # flipped the > to <= so that the subtraction gives 0 iff the prediction is wrong, and preserves the nans\n",
    "    return np.nanmean(np.abs((recon <= thr) - baseline))"
   ],
   "outputs": [],
   "execution_count": 9
  },
  {
   "metadata": {
    "ExecuteTime": {
     "end_time": "2025-01-17T15:09:08.538717Z",
     "start_time": "2025-01-17T15:09:08.535177Z"
    }
   },
   "cell_type": "code",
   "source": [
    "def best_accuracy(recons: dict[(int, np.ndarray)], comps: list[int], thrs: list[float], baseline: np.ndarray) -> (float, int, float):\n",
    "    b_acc, b_comp, b_thr = 0., None, None\n",
    "    accs = []\n",
    "    for comp in comps:\n",
    "        recon = recons[comp]\n",
    "        accs = []\n",
    "        for thr in thrs:\n",
    "            # Compute training accuracy\n",
    "            acc = accuracy(recon, thr, baseline)\n",
    "            accs.append(accs)\n",
    "            print(acc)\n",
    "            if acc > b_acc:\n",
    "                b_acc = acc\n",
    "                b_comp = comp\n",
    "                b_thr = thr\n",
    "    return b_acc, b_comp, b_thr"
   ],
   "outputs": [],
   "execution_count": 18
  },
  {
   "cell_type": "code",
   "source": [
    "# Step 3: Get training accuracies\n",
    "\n",
    "# Declare some list of thresholds to try: list_thr...\n",
    "list_thr = [0.1, 0.25, 0.5, 0.75, 0.9]\n",
    "best_acc, best_comp, best_thr = best_accuracy(recons, list_components, list_thr, train_data)\n",
    "print(f'Best accuracy {best_acc} for {best_comp} components and threshold {best_thr}')"
   ],
   "metadata": {
    "id": "69dBvlJhYpio",
    "ExecuteTime": {
     "end_time": "2025-01-17T15:08:37.667697Z",
     "start_time": "2025-01-17T15:08:35.179495Z"
    }
   },
   "outputs": [
    {
     "name": "stdout",
     "output_type": "stream",
     "text": [
      "0.8429773674319797\n",
      "0.8288912492850723\n",
      "0.8231881689680529\n",
      "0.8222894027289811\n",
      "0.8221096494811667\n",
      "0.8542201160225509\n",
      "0.8365225917150094\n",
      "0.8261949505678569\n",
      "0.8233842634202141\n",
      "0.8226325680202631\n",
      "0.8677342920173217\n",
      "0.8475365634447258\n",
      "0.8328621619413351\n",
      "0.8274041996895172\n",
      "0.824887654220116\n",
      "0.8924258517852766\n",
      "0.8699240133997875\n",
      "0.8495792139880709\n",
      "0.8391862080235314\n",
      "0.8328131383282948\n",
      "0.9181959310401177\n",
      "0.8950404444807583\n",
      "0.8711822861344881\n",
      "0.8576517689353705\n",
      "0.8461802434839447\n",
      "Best accuracy 0.9181959310401177 for 100 components and threshold 0.1\n"
     ]
    }
   ],
   "execution_count": 11
  },
  {
   "cell_type": "code",
   "source": [
    "# Step 4: Get validation accuracies\n",
    "# This is where we fit the n_components and the threshold\n",
    "list_thr = [0.01, 0.1, 0.2, 0.3, 0.5]\n",
    "best_acc, best_comp, best_thr = best_accuracy(recons, list_components, list_thr, val_data)\n",
    "print(f'Best accuracy {best_acc} for {best_comp} components and threshold {best_thr}')"
   ],
   "metadata": {
    "id": "oJCdJLbofPWL",
    "ExecuteTime": {
     "end_time": "2025-01-17T15:08:40.341650Z",
     "start_time": "2025-01-17T15:08:37.681985Z"
    }
   },
   "outputs": [
    {
     "name": "stdout",
     "output_type": "stream",
     "text": [
      "0.7829882257409663\n",
      "0.835464880227365\n",
      "0.82907023954527\n",
      "0.8273447015834349\n",
      "0.8270401948842875\n",
      "0.7818717011774259\n",
      "0.8384084449857897\n",
      "0.8304912708079578\n",
      "0.8285627283800243\n",
      "0.8272431993503857\n",
      "0.7825822168087698\n",
      "0.8369874137231019\n",
      "0.832318311002842\n",
      "0.8294762484774665\n",
      "0.8271416971173365\n",
      "0.7820747056435241\n",
      "0.8319123020706456\n",
      "0.8308972797401543\n",
      "0.8300852618757613\n",
      "0.8270401948842875\n",
      "0.7666463662200569\n",
      "0.8301867641088104\n",
      "0.8296792529435647\n",
      "0.8285627283800243\n",
      "0.8268371904181891\n",
      "Best accuracy 0.8384084449857897 for 10 components and threshold 0.1\n"
     ]
    }
   ],
   "execution_count": 12
  },
  {
   "cell_type": "code",
   "source": [
    "# Step 5: Get the final test accuracy\n",
    "# We use the n_components and the threshold we fit on the validation set\n",
    "comp, thr = best_comp, best_thr\n",
    "# Compute test accuracy\n",
    "test_accuracy = accuracy(recons[comp], thr, test_data)\n",
    "print(f\"Test accuracy: {test_accuracy:g}%, thr: {thr:g}, n_components: {comp}\")"
   ],
   "metadata": {
    "id": "PBymyPBkiVdu",
    "ExecuteTime": {
     "end_time": "2025-01-17T15:08:40.479289Z",
     "start_time": "2025-01-17T15:08:40.355032Z"
    }
   },
   "outputs": [
    {
     "name": "stdout",
     "output_type": "stream",
     "text": [
      "Test accuracy: 0.786598%, thr: 0.1, n_components: 10\n"
     ]
    }
   ],
   "execution_count": 13
  },
  {
   "cell_type": "markdown",
   "source": [
    "## Distance-based recommender system"
   ],
   "metadata": {
    "id": "nyJOHH_4a0e7"
   }
  },
  {
   "cell_type": "code",
   "source": [
    "# Use min-hashing on the rows and find the nearest neighbors using Jaccard distance\n",
    "\n",
    "# Use min-hashing on the columns and find the nearest neighbors using Jaccard distance"
   ],
   "metadata": {
    "id": "zUZDXsFfa6Sv",
    "ExecuteTime": {
     "end_time": "2025-01-17T15:08:40.499725Z",
     "start_time": "2025-01-17T15:08:40.496581Z"
    }
   },
   "outputs": [],
   "execution_count": 14
  },
  {
   "cell_type": "code",
   "source": [
    "# Aggregate the user-user and item-item nearest neighbor information to estimate recommendations\n",
    "\n"
   ],
   "metadata": {
    "id": "n8U9NTw4bdg7",
    "ExecuteTime": {
     "end_time": "2025-01-17T15:08:40.512126Z",
     "start_time": "2025-01-17T15:08:40.509903Z"
    }
   },
   "outputs": [],
   "execution_count": 15
  },
  {
   "cell_type": "code",
   "source": [
    "# Cross-validate on the validation data: number of hash functions and number of neighbors\n",
    "# (As we did for NMF above, for the n_components and the threshold.)"
   ],
   "metadata": {
    "id": "xY_wHH5xbw1W",
    "ExecuteTime": {
     "end_time": "2025-01-17T15:08:40.533787Z",
     "start_time": "2025-01-17T15:08:40.531235Z"
    }
   },
   "outputs": [],
   "execution_count": 16
  },
  {
   "cell_type": "code",
   "source": [
    "# Report recommendation accuracy on the independent test data"
   ],
   "metadata": {
    "id": "xdluXorTbzZ1",
    "ExecuteTime": {
     "end_time": "2025-01-17T15:08:40.551024Z",
     "start_time": "2025-01-17T15:08:40.548337Z"
    }
   },
   "outputs": [],
   "execution_count": 17
  }
 ]
}
